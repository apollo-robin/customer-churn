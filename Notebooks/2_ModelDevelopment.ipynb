{
 "cells": [
  {
   "cell_type": "markdown",
   "metadata": {},
   "source": [
    "\n",
    "# 2. Model Development"
   ]
  },
  {
   "cell_type": "markdown",
   "metadata": {},
   "source": [
    "### i. Experiment Tracking with Weights and Biases"
   ]
  },
  {
   "cell_type": "code",
   "execution_count": 1,
   "metadata": {},
   "outputs": [],
   "source": [
    "import wandb\n",
    "import os\n",
    "import sklearn"
   ]
  },
  {
   "cell_type": "code",
   "execution_count": 2,
   "metadata": {},
   "outputs": [],
   "source": [
    "os.environ[\"WANDB_API_KEY\"] = \"c1dd26a5e3acf8ba7bdf09cf890e948c409d1f44\""
   ]
  },
  {
   "cell_type": "code",
   "execution_count": 3,
   "metadata": {},
   "outputs": [],
   "source": [
    "def run_model_experiment(model,\n",
    "                         x_train,\n",
    "                         y_train,\n",
    "                         x_test,\n",
    "                         y_test,\n",
    "                         name,\n",
    "                         config = None,\n",
    "                         tags = None):\n",
    "  \n",
    "  model.fit(x_train, y_train)\n",
    "\n",
    "  wandb.init(project='CreditChurn', config=config, tags = tags)\n",
    "  wandb.run.name = name\n",
    "  \n",
    "  y_pred = model.predict(x_test)  \n",
    "  y_prob = model.predict_proba(x_test) \n",
    "  \n",
    "  acc = sklearn.metrics.accuracy_score(y_pred,y_test)\n",
    "  precision = sklearn.metrics.precision_score(y_pred,y_test) \n",
    "  recall = sklearn.metrics.recall_score(y_pred,y_test)\n",
    "  f1_score = sklearn.metrics.f1_score(y_pred,y_test)  \n",
    "\n",
    "  wandb.log( {\"accuracy\" : acc,\n",
    "             \"precision\": precision,\n",
    "             \"recall\":recall,\n",
    "             \"f1_score\":f1_score} )\n",
    "  \n",
    "  # ROC\n",
    "  wandb.log({\"roc\" : wandb.plot.roc_curve(y_test, y_prob,model.classes_)})\n",
    "\n",
    "  # PR\n",
    "  wandb.log({\"pr\" : wandb.plot.pr_curve(y_test, y_prob, model.classes_)})\n",
    "    \n",
    "  # Confusion Matrices\n",
    "  wandb.sklearn.plot_confusion_matrix(y_test, y_pred, labels= model.classes_)\n",
    "  \n",
    "  wandb.Artifact(name, \n",
    "                 type = 'model',\n",
    "                 description = config)\n",
    " \n",
    "\n",
    "  wandb.save()\n",
    "  wandb.finish()\n",
    "\n",
    "  return model"
   ]
  },
  {
   "cell_type": "markdown",
   "metadata": {},
   "source": [
    "### Loading Datasets"
   ]
  },
  {
   "cell_type": "code",
   "execution_count": 4,
   "metadata": {},
   "outputs": [],
   "source": [
    "import pandas as pd\n",
    "import numpy as np"
   ]
  },
  {
   "cell_type": "code",
   "execution_count": 5,
   "metadata": {},
   "outputs": [],
   "source": [
    "churn_train = pd.read_pickle('https://github.com/apollo-robin/customer-churn/raw/main/DataFiles/processed/churn_train.pkl')\n",
    "churn_test = pd.read_pickle('https://github.com/apollo-robin/customer-churn/raw/main/DataFiles/processed/churn_test.pkl')"
   ]
  },
  {
   "cell_type": "code",
   "execution_count": 6,
   "metadata": {},
   "outputs": [
    {
     "data": {
      "text/html": [
       "<div>\n",
       "<style scoped>\n",
       "    .dataframe tbody tr th:only-of-type {\n",
       "        vertical-align: middle;\n",
       "    }\n",
       "\n",
       "    .dataframe tbody tr th {\n",
       "        vertical-align: top;\n",
       "    }\n",
       "\n",
       "    .dataframe thead th {\n",
       "        text-align: right;\n",
       "    }\n",
       "</style>\n",
       "<table border=\"1\" class=\"dataframe\">\n",
       "  <thead>\n",
       "    <tr style=\"text-align: right;\">\n",
       "      <th></th>\n",
       "      <th>Customer_Age</th>\n",
       "      <th>Gender</th>\n",
       "      <th>Dependent_count</th>\n",
       "      <th>Education_Level</th>\n",
       "      <th>Marital_Status</th>\n",
       "      <th>Income_Category</th>\n",
       "      <th>Card_Category</th>\n",
       "      <th>Months_on_book</th>\n",
       "      <th>Total_Relationship_Count</th>\n",
       "      <th>Months_Inactive_12_mon</th>\n",
       "      <th>Contacts_Count_12_mon</th>\n",
       "      <th>Credit_Limit</th>\n",
       "      <th>Total_Revolving_Bal</th>\n",
       "      <th>Avg_Open_To_Buy</th>\n",
       "      <th>Total_Amt_Chng_Q4_Q1</th>\n",
       "      <th>Total_Trans_Amt</th>\n",
       "      <th>Total_Trans_Ct</th>\n",
       "      <th>Total_Ct_Chng_Q4_Q1</th>\n",
       "      <th>Avg_Utilization_Ratio</th>\n",
       "      <th>Attrition_Flag</th>\n",
       "    </tr>\n",
       "  </thead>\n",
       "  <tbody>\n",
       "    <tr>\n",
       "      <th>0</th>\n",
       "      <td>35</td>\n",
       "      <td>F</td>\n",
       "      <td>2</td>\n",
       "      <td>Graduate</td>\n",
       "      <td>Married</td>\n",
       "      <td>Less than $40K</td>\n",
       "      <td>Blue</td>\n",
       "      <td>36</td>\n",
       "      <td>5</td>\n",
       "      <td>2</td>\n",
       "      <td>4</td>\n",
       "      <td>5546.0</td>\n",
       "      <td>1829</td>\n",
       "      <td>3717.0</td>\n",
       "      <td>0.673</td>\n",
       "      <td>1770</td>\n",
       "      <td>46</td>\n",
       "      <td>1.000</td>\n",
       "      <td>0.330</td>\n",
       "      <td>0</td>\n",
       "    </tr>\n",
       "    <tr>\n",
       "      <th>1</th>\n",
       "      <td>57</td>\n",
       "      <td>F</td>\n",
       "      <td>1</td>\n",
       "      <td>Uneducated</td>\n",
       "      <td>Single</td>\n",
       "      <td>Less than $40K</td>\n",
       "      <td>Blue</td>\n",
       "      <td>46</td>\n",
       "      <td>2</td>\n",
       "      <td>3</td>\n",
       "      <td>3</td>\n",
       "      <td>9129.0</td>\n",
       "      <td>0</td>\n",
       "      <td>9129.0</td>\n",
       "      <td>0.733</td>\n",
       "      <td>7733</td>\n",
       "      <td>81</td>\n",
       "      <td>0.884</td>\n",
       "      <td>0.000</td>\n",
       "      <td>1</td>\n",
       "    </tr>\n",
       "    <tr>\n",
       "      <th>2</th>\n",
       "      <td>59</td>\n",
       "      <td>F</td>\n",
       "      <td>1</td>\n",
       "      <td>Graduate</td>\n",
       "      <td>Single</td>\n",
       "      <td>Less than $40K</td>\n",
       "      <td>Blue</td>\n",
       "      <td>52</td>\n",
       "      <td>5</td>\n",
       "      <td>3</td>\n",
       "      <td>3</td>\n",
       "      <td>2636.0</td>\n",
       "      <td>1619</td>\n",
       "      <td>1017.0</td>\n",
       "      <td>0.565</td>\n",
       "      <td>4727</td>\n",
       "      <td>83</td>\n",
       "      <td>0.627</td>\n",
       "      <td>0.614</td>\n",
       "      <td>0</td>\n",
       "    </tr>\n",
       "    <tr>\n",
       "      <th>3</th>\n",
       "      <td>45</td>\n",
       "      <td>F</td>\n",
       "      <td>4</td>\n",
       "      <td>Graduate</td>\n",
       "      <td>Single</td>\n",
       "      <td>Less than $40K</td>\n",
       "      <td>Blue</td>\n",
       "      <td>33</td>\n",
       "      <td>2</td>\n",
       "      <td>1</td>\n",
       "      <td>3</td>\n",
       "      <td>3001.0</td>\n",
       "      <td>2055</td>\n",
       "      <td>946.0</td>\n",
       "      <td>0.838</td>\n",
       "      <td>4662</td>\n",
       "      <td>70</td>\n",
       "      <td>0.628</td>\n",
       "      <td>0.685</td>\n",
       "      <td>0</td>\n",
       "    </tr>\n",
       "    <tr>\n",
       "      <th>4</th>\n",
       "      <td>43</td>\n",
       "      <td>M</td>\n",
       "      <td>2</td>\n",
       "      <td>Doctorate</td>\n",
       "      <td>Single</td>\n",
       "      <td>$120K +</td>\n",
       "      <td>Blue</td>\n",
       "      <td>34</td>\n",
       "      <td>5</td>\n",
       "      <td>3</td>\n",
       "      <td>4</td>\n",
       "      <td>33913.0</td>\n",
       "      <td>0</td>\n",
       "      <td>33913.0</td>\n",
       "      <td>0.901</td>\n",
       "      <td>4160</td>\n",
       "      <td>76</td>\n",
       "      <td>0.900</td>\n",
       "      <td>0.000</td>\n",
       "      <td>0</td>\n",
       "    </tr>\n",
       "  </tbody>\n",
       "</table>\n",
       "</div>"
      ],
      "text/plain": [
       "   Customer_Age Gender  Dependent_count Education_Level Marital_Status  \\\n",
       "0            35      F                2        Graduate        Married   \n",
       "1            57      F                1      Uneducated         Single   \n",
       "2            59      F                1        Graduate         Single   \n",
       "3            45      F                4        Graduate         Single   \n",
       "4            43      M                2       Doctorate         Single   \n",
       "\n",
       "  Income_Category Card_Category  Months_on_book  Total_Relationship_Count  \\\n",
       "0  Less than $40K          Blue              36                         5   \n",
       "1  Less than $40K          Blue              46                         2   \n",
       "2  Less than $40K          Blue              52                         5   \n",
       "3  Less than $40K          Blue              33                         2   \n",
       "4         $120K +          Blue              34                         5   \n",
       "\n",
       "   Months_Inactive_12_mon  Contacts_Count_12_mon  Credit_Limit  \\\n",
       "0                       2                      4        5546.0   \n",
       "1                       3                      3        9129.0   \n",
       "2                       3                      3        2636.0   \n",
       "3                       1                      3        3001.0   \n",
       "4                       3                      4       33913.0   \n",
       "\n",
       "   Total_Revolving_Bal  Avg_Open_To_Buy  Total_Amt_Chng_Q4_Q1  \\\n",
       "0                 1829           3717.0                 0.673   \n",
       "1                    0           9129.0                 0.733   \n",
       "2                 1619           1017.0                 0.565   \n",
       "3                 2055            946.0                 0.838   \n",
       "4                    0          33913.0                 0.901   \n",
       "\n",
       "   Total_Trans_Amt  Total_Trans_Ct  Total_Ct_Chng_Q4_Q1  \\\n",
       "0             1770              46                1.000   \n",
       "1             7733              81                0.884   \n",
       "2             4727              83                0.627   \n",
       "3             4662              70                0.628   \n",
       "4             4160              76                0.900   \n",
       "\n",
       "   Avg_Utilization_Ratio  Attrition_Flag  \n",
       "0                  0.330               0  \n",
       "1                  0.000               1  \n",
       "2                  0.614               0  \n",
       "3                  0.685               0  \n",
       "4                  0.000               0  "
      ]
     },
     "execution_count": 6,
     "metadata": {},
     "output_type": "execute_result"
    }
   ],
   "source": [
    "churn_train.head()"
   ]
  },
  {
   "cell_type": "code",
   "execution_count": 7,
   "metadata": {},
   "outputs": [],
   "source": [
    "X_train = churn_train.drop('Attrition_Flag',axis = 1)\n",
    "X_test = churn_test.drop('Attrition_Flag',axis = 1)\n",
    "\n",
    "y_train = churn_train['Attrition_Flag']\n",
    "y_test = churn_test['Attrition_Flag']"
   ]
  },
  {
   "cell_type": "markdown",
   "metadata": {},
   "source": [
    "## 2.1 Encoding Variables "
   ]
  },
  {
   "cell_type": "code",
   "execution_count": 8,
   "metadata": {},
   "outputs": [
    {
     "data": {
      "text/plain": [
       "['Gender',\n",
       " 'Education_Level',\n",
       " 'Marital_Status',\n",
       " 'Income_Category',\n",
       " 'Card_Category']"
      ]
     },
     "execution_count": 8,
     "metadata": {},
     "output_type": "execute_result"
    }
   ],
   "source": [
    "cat_features = ['Gender','Education_Level','Marital_Status','Income_Category','Card_Category']\n",
    "cat_features"
   ]
  },
  {
   "cell_type": "code",
   "execution_count": 9,
   "metadata": {},
   "outputs": [
    {
     "data": {
      "text/plain": [
       "['Total_Ct_Chng_Q4_Q1',\n",
       " 'Total_Relationship_Count',\n",
       " 'Total_Revolving_Bal',\n",
       " 'Months_on_book',\n",
       " 'Total_Trans_Ct',\n",
       " 'Contacts_Count_12_mon',\n",
       " 'Customer_Age',\n",
       " 'Total_Amt_Chng_Q4_Q1',\n",
       " 'Avg_Utilization_Ratio',\n",
       " 'Avg_Open_To_Buy',\n",
       " 'Total_Trans_Amt',\n",
       " 'Months_Inactive_12_mon',\n",
       " 'Credit_Limit',\n",
       " 'Dependent_count']"
      ]
     },
     "execution_count": 9,
     "metadata": {},
     "output_type": "execute_result"
    }
   ],
   "source": [
    "num_features = list(set(X_train.columns) - set(cat_features))\n",
    "num_features"
   ]
  },
  {
   "cell_type": "markdown",
   "metadata": {},
   "source": [
    "### 2.1.1 Categorical Variables "
   ]
  },
  {
   "cell_type": "markdown",
   "metadata": {},
   "source": [
    "#### One Hot Encoding"
   ]
  },
  {
   "cell_type": "code",
   "execution_count": 10,
   "metadata": {},
   "outputs": [],
   "source": [
    "from sklearn.preprocessing import OneHotEncoder"
   ]
  },
  {
   "cell_type": "code",
   "execution_count": 11,
   "metadata": {},
   "outputs": [],
   "source": [
    "ohe_encoder = OneHotEncoder()"
   ]
  },
  {
   "cell_type": "code",
   "execution_count": 12,
   "metadata": {},
   "outputs": [
    {
     "data": {
      "text/plain": [
       "['Gender', 'Marital_Status']"
      ]
     },
     "execution_count": 12,
     "metadata": {},
     "output_type": "execute_result"
    }
   ],
   "source": [
    "ohe_features = ['Gender','Marital_Status']\n",
    "ohe_features"
   ]
  },
  {
   "cell_type": "markdown",
   "metadata": {},
   "source": [
    "#### Target Encoding"
   ]
  },
  {
   "cell_type": "code",
   "execution_count": 13,
   "metadata": {},
   "outputs": [],
   "source": [
    "from category_encoders import TargetEncoder"
   ]
  },
  {
   "cell_type": "code",
   "execution_count": 14,
   "metadata": {},
   "outputs": [],
   "source": [
    "target_encoder = TargetEncoder(min_samples_leaf=100,\n",
    "                               smoothing= 10000)"
   ]
  },
  {
   "cell_type": "code",
   "execution_count": 15,
   "metadata": {},
   "outputs": [
    {
     "data": {
      "text/plain": [
       "['Income_Category', 'Card_Category', 'Education_Level']"
      ]
     },
     "execution_count": 15,
     "metadata": {},
     "output_type": "execute_result"
    }
   ],
   "source": [
    "te_features = list(set(cat_features) - set(ohe_features))\n",
    "te_features"
   ]
  },
  {
   "cell_type": "markdown",
   "metadata": {},
   "source": [
    "### 2.1.2 Numerical Variables "
   ]
  },
  {
   "cell_type": "markdown",
   "metadata": {},
   "source": [
    "#### Feature Binning"
   ]
  },
  {
   "cell_type": "code",
   "execution_count": 16,
   "metadata": {},
   "outputs": [],
   "source": [
    "from sklearn.preprocessing import KBinsDiscretizer"
   ]
  },
  {
   "cell_type": "code",
   "execution_count": 17,
   "metadata": {},
   "outputs": [],
   "source": [
    "binner = KBinsDiscretizer(n_bins=5,\n",
    "                          encode='ordinal',\n",
    "                          strategy='uniform')"
   ]
  },
  {
   "cell_type": "code",
   "execution_count": 18,
   "metadata": {},
   "outputs": [
    {
     "data": {
      "text/plain": [
       "['Credit_Limit', 'Total_Revolving_Bal', 'Avg_Open_To_Buy', 'Total_Trans_Amt']"
      ]
     },
     "execution_count": 18,
     "metadata": {},
     "output_type": "execute_result"
    }
   ],
   "source": [
    "bin_features = ['Credit_Limit','Total_Revolving_Bal','Avg_Open_To_Buy','Total_Trans_Amt']\n",
    "bin_features"
   ]
  },
  {
   "cell_type": "markdown",
   "metadata": {},
   "source": [
    "#### Standard Scaler"
   ]
  },
  {
   "cell_type": "code",
   "execution_count": 19,
   "metadata": {},
   "outputs": [],
   "source": [
    "from sklearn.preprocessing import StandardScaler"
   ]
  },
  {
   "cell_type": "code",
   "execution_count": 20,
   "metadata": {},
   "outputs": [],
   "source": [
    "scaler = StandardScaler()"
   ]
  },
  {
   "cell_type": "code",
   "execution_count": 21,
   "metadata": {},
   "outputs": [
    {
     "data": {
      "text/plain": [
       "['Total_Ct_Chng_Q4_Q1',\n",
       " 'Total_Relationship_Count',\n",
       " 'Months_on_book',\n",
       " 'Total_Trans_Ct',\n",
       " 'Contacts_Count_12_mon',\n",
       " 'Customer_Age',\n",
       " 'Total_Amt_Chng_Q4_Q1',\n",
       " 'Avg_Utilization_Ratio',\n",
       " 'Months_Inactive_12_mon',\n",
       " 'Dependent_count']"
      ]
     },
     "execution_count": 21,
     "metadata": {},
     "output_type": "execute_result"
    }
   ],
   "source": [
    "scale_features = list(set(num_features) - set(bin_features))\n",
    "scale_features "
   ]
  },
  {
   "cell_type": "markdown",
   "metadata": {},
   "source": [
    "### 2.1.3 Column Transformer"
   ]
  },
  {
   "cell_type": "code",
   "execution_count": 22,
   "metadata": {},
   "outputs": [],
   "source": [
    "from sklearn.compose import ColumnTransformer"
   ]
  },
  {
   "cell_type": "code",
   "execution_count": 23,
   "metadata": {},
   "outputs": [
    {
     "data": {
      "text/plain": [
       "ColumnTransformer(remainder='passthrough',\n",
       "                  transformers=[('ohe', OneHotEncoder(),\n",
       "                                 ['Gender', 'Marital_Status']),\n",
       "                                ('te',\n",
       "                                 TargetEncoder(min_samples_leaf=100,\n",
       "                                               smoothing=10000.0),\n",
       "                                 ['Income_Category', 'Card_Category',\n",
       "                                  'Education_Level']),\n",
       "                                ('bin',\n",
       "                                 KBinsDiscretizer(encode='ordinal',\n",
       "                                                  strategy='uniform'),\n",
       "                                 ['Credit_Limit', 'Total_Revolving_Bal',\n",
       "                                  'Avg_Open_To_Buy', 'Total_Trans_Amt']),\n",
       "                                ('scaler', StandardScaler(),\n",
       "                                 ['Total_Ct_Chng_Q4_Q1',\n",
       "                                  'Total_Relationship_Count', 'Months_on_book',\n",
       "                                  'Total_Trans_Ct', 'Contacts_Count_12_mon',\n",
       "                                  'Customer_Age', 'Total_Amt_Chng_Q4_Q1',\n",
       "                                  'Avg_Utilization_Ratio',\n",
       "                                  'Months_Inactive_12_mon',\n",
       "                                  'Dependent_count'])])"
      ]
     },
     "execution_count": 23,
     "metadata": {},
     "output_type": "execute_result"
    }
   ],
   "source": [
    "preprocessor = ColumnTransformer(transformers=[\n",
    "                                                ('ohe',ohe_encoder, ohe_features),\n",
    "                                                ('te',target_encoder,te_features),\n",
    "                                                ('bin',binner,bin_features),\n",
    "                                                ('scaler',scaler,scale_features)],\n",
    "                                                 remainder='passthrough')\n",
    "preprocessor"
   ]
  },
  {
   "cell_type": "markdown",
   "metadata": {},
   "source": [
    "## 2.2 Classification Models "
   ]
  },
  {
   "cell_type": "code",
   "execution_count": 24,
   "metadata": {},
   "outputs": [],
   "source": [
    "from sklearn.pipeline import Pipeline\n",
    "\n",
    "from sklearn.linear_model import LogisticRegression\n",
    "from sklearn.tree import DecisionTreeClassifier\n",
    "from sklearn.neighbors import KNeighborsClassifier\n",
    "from sklearn.svm import SVC\n",
    "from sklearn.ensemble import RandomForestClassifier\n",
    "import xgboost\n",
    "from sklearn.ensemble import VotingClassifier\n",
    "from sklearn.ensemble import StackingClassifier\n",
    "\n",
    "from sklearn.model_selection import GridSearchCV\n",
    "from sklearn.model_selection import cross_val_score"
   ]
  },
  {
   "cell_type": "markdown",
   "metadata": {},
   "source": [
    "### 2.2.1 Logistic Regression"
   ]
  },
  {
   "cell_type": "code",
   "execution_count": 25,
   "metadata": {},
   "outputs": [],
   "source": [
    "# Logistic Regression Classifier\n",
    "lr = LogisticRegression(max_iter= 1000)\n",
    "\n",
    "# Pipeline \n",
    "lr_clf = Pipeline(steps=[('pre', preprocessor),\n",
    "                          ('lr',lr)])"
   ]
  },
  {
   "cell_type": "code",
   "execution_count": 26,
   "metadata": {},
   "outputs": [
    {
     "name": "stderr",
     "output_type": "stream",
     "text": [
      "Failed to detect the name of this notebook, you can set it manually with the WANDB_NOTEBOOK_NAME environment variable to enable code saving.\n",
      "wandb: Currently logged in as: apollo101 (use `wandb login --relogin` to force relogin)\n"
     ]
    },
    {
     "data": {
      "text/html": [
       "\n",
       "                    Syncing run <strong><a href=\"https://wandb.ai/apollo101/CreditChurn/runs/398iia6l\" target=\"_blank\">gentle-leaf-21</a></strong> to <a href=\"https://wandb.ai/apollo101/CreditChurn\" target=\"_blank\">Weights & Biases</a> (<a href=\"https://docs.wandb.com/integrations/jupyter.html\" target=\"_blank\">docs</a>).<br/>\n",
       "\n",
       "                "
      ],
      "text/plain": [
       "<IPython.core.display.HTML object>"
      ]
     },
     "metadata": {},
     "output_type": "display_data"
    },
    {
     "name": "stderr",
     "output_type": "stream",
     "text": [
      "wandb: WARNING Calling run.save without any arguments is deprecated.Changes to attributes are automatically persisted.\n"
     ]
    },
    {
     "data": {
      "text/html": [
       "<br/>Waiting for W&B process to finish, PID 4452... <strong style=\"color:green\">(success).</strong>"
      ],
      "text/plain": [
       "<IPython.core.display.HTML object>"
      ]
     },
     "metadata": {},
     "output_type": "display_data"
    },
    {
     "data": {
      "application/vnd.jupyter.widget-view+json": {
       "model_id": "",
       "version_major": 2,
       "version_minor": 0
      },
      "text/plain": [
       "VBox(children=(Label(value=' 0.02MB of 0.02MB uploaded (0.00MB deduped)\\r'), FloatProgress(value=0.99526276176…"
      ]
     },
     "metadata": {},
     "output_type": "display_data"
    },
    {
     "data": {
      "text/html": [
       "<style>\n",
       "    table.wandb td:nth-child(1) { padding: 0 10px; text-align: right }\n",
       "    .wandb-row { display: flex; flex-direction: row; flex-wrap: wrap; width: 100% }\n",
       "    .wandb-col { display: flex; flex-direction: column; flex-basis: 100%; flex: 1; padding: 10px; }\n",
       "    </style>\n",
       "<div class=\"wandb-row\"><div class=\"wandb-col\">\n",
       "<h3>Run history:</h3><br/><table class=\"wandb\"><tr><td>accuracy</td><td>▁</td></tr><tr><td>f1_score</td><td>▁</td></tr><tr><td>precision</td><td>▁</td></tr><tr><td>recall</td><td>▁</td></tr></table><br/></div><div class=\"wandb-col\">\n",
       "<h3>Run summary:</h3><br/><table class=\"wandb\"><tr><td>accuracy</td><td>0.85256</td></tr><tr><td>f1_score</td><td>0.63733</td></tr><tr><td>precision</td><td>0.78358</td></tr><tr><td>recall</td><td>0.53708</td></tr></table>\n",
       "</div></div>\n",
       "Synced 5 W&B file(s), 3 media file(s), 3 artifact file(s) and 0 other file(s)\n",
       "<br/>Synced <strong style=\"color:#cdcd00\">gentle-leaf-21</strong>: <a href=\"https://wandb.ai/apollo101/CreditChurn/runs/398iia6l\" target=\"_blank\">https://wandb.ai/apollo101/CreditChurn/runs/398iia6l</a><br/>\n",
       "Find logs at: <code>.\\wandb\\run-20211130_165943-398iia6l\\logs</code><br/>\n"
      ],
      "text/plain": [
       "<IPython.core.display.HTML object>"
      ]
     },
     "metadata": {},
     "output_type": "display_data"
    }
   ],
   "source": [
    "lr_clf = run_model_experiment(lr_clf,\n",
    "                             X_train,\n",
    "                             y_train,\n",
    "                             X_test,\n",
    "                             y_test,\n",
    "                             name = \"LogisiticRegression\",\n",
    "                             config = None,\n",
    "                             tags = None)"
   ]
  },
  {
   "cell_type": "code",
   "execution_count": 27,
   "metadata": {},
   "outputs": [
    {
     "data": {
      "text/plain": [
       "0.8525601480567551"
      ]
     },
     "execution_count": 27,
     "metadata": {},
     "output_type": "execute_result"
    }
   ],
   "source": [
    "lr_clf.score(X_test,y_test)"
   ]
  },
  {
   "cell_type": "markdown",
   "metadata": {},
   "source": [
    "### 2.2.2 Decision Trees"
   ]
  },
  {
   "cell_type": "code",
   "execution_count": 28,
   "metadata": {},
   "outputs": [],
   "source": [
    "# Create Decision Tree classifer object\n",
    "dt = DecisionTreeClassifier()\n",
    "\n",
    "params_dt = {'dt__max_depth': [2, 3, 5, 10, 20],\n",
    "            'dt__min_samples_leaf': [5, 10, 20, 50, 100],\n",
    "            'dt__criterion': [\"gini\", \"entropy\"]}\n",
    "\n",
    "# Pipeline \n",
    "dt_pipe = Pipeline(steps=[('pre', preprocessor),\n",
    "                          ('dt',dt)])\n",
    "\n",
    "#Grid Search\n",
    "dt_clf = GridSearchCV(estimator = dt_pipe, \n",
    "                       param_grid = params_dt, \n",
    "                       cv = 5, verbose=2, \n",
    "                       n_jobs = -1)"
   ]
  },
  {
   "cell_type": "code",
   "execution_count": 29,
   "metadata": {},
   "outputs": [
    {
     "name": "stdout",
     "output_type": "stream",
     "text": [
      "Fitting 5 folds for each of 50 candidates, totalling 250 fits\n"
     ]
    },
    {
     "data": {
      "text/html": [
       "\n",
       "                    Syncing run <strong><a href=\"https://wandb.ai/apollo101/CreditChurn/runs/1sq59y5j\" target=\"_blank\">dry-butterfly-22</a></strong> to <a href=\"https://wandb.ai/apollo101/CreditChurn\" target=\"_blank\">Weights & Biases</a> (<a href=\"https://docs.wandb.com/integrations/jupyter.html\" target=\"_blank\">docs</a>).<br/>\n",
       "\n",
       "                "
      ],
      "text/plain": [
       "<IPython.core.display.HTML object>"
      ]
     },
     "metadata": {},
     "output_type": "display_data"
    },
    {
     "name": "stderr",
     "output_type": "stream",
     "text": [
      "wandb: WARNING Calling run.save without any arguments is deprecated.Changes to attributes are automatically persisted.\n"
     ]
    },
    {
     "data": {
      "text/html": [
       "<br/>Waiting for W&B process to finish, PID 11852... <strong style=\"color:green\">(success).</strong>"
      ],
      "text/plain": [
       "<IPython.core.display.HTML object>"
      ]
     },
     "metadata": {},
     "output_type": "display_data"
    },
    {
     "data": {
      "application/vnd.jupyter.widget-view+json": {
       "model_id": "",
       "version_major": 2,
       "version_minor": 0
      },
      "text/plain": [
       "VBox(children=(Label(value=' 0.01MB of 0.01MB uploaded (0.00MB deduped)\\r'), FloatProgress(value=1.0, max=1.0)…"
      ]
     },
     "metadata": {},
     "output_type": "display_data"
    },
    {
     "data": {
      "text/html": [
       "<style>\n",
       "    table.wandb td:nth-child(1) { padding: 0 10px; text-align: right }\n",
       "    .wandb-row { display: flex; flex-direction: row; flex-wrap: wrap; width: 100% }\n",
       "    .wandb-col { display: flex; flex-direction: column; flex-basis: 100%; flex: 1; padding: 10px; }\n",
       "    </style>\n",
       "<div class=\"wandb-row\"><div class=\"wandb-col\">\n",
       "<h3>Run history:</h3><br/><table class=\"wandb\"><tr><td>accuracy</td><td>▁</td></tr><tr><td>f1_score</td><td>▁</td></tr><tr><td>precision</td><td>▁</td></tr><tr><td>recall</td><td>▁</td></tr></table><br/></div><div class=\"wandb-col\">\n",
       "<h3>Run summary:</h3><br/><table class=\"wandb\"><tr><td>accuracy</td><td>0.88526</td></tr><tr><td>f1_score</td><td>0.68687</td></tr><tr><td>precision</td><td>0.76119</td></tr><tr><td>recall</td><td>0.62577</td></tr></table>\n",
       "</div></div>\n",
       "Synced 5 W&B file(s), 3 media file(s), 3 artifact file(s) and 0 other file(s)\n",
       "<br/>Synced <strong style=\"color:#cdcd00\">dry-butterfly-22</strong>: <a href=\"https://wandb.ai/apollo101/CreditChurn/runs/1sq59y5j\" target=\"_blank\">https://wandb.ai/apollo101/CreditChurn/runs/1sq59y5j</a><br/>\n",
       "Find logs at: <code>.\\wandb\\run-20211130_170031-1sq59y5j\\logs</code><br/>\n"
      ],
      "text/plain": [
       "<IPython.core.display.HTML object>"
      ]
     },
     "metadata": {},
     "output_type": "display_data"
    }
   ],
   "source": [
    "dt_clf = run_model_experiment(dt_clf,\n",
    "                             X_train,\n",
    "                             y_train,\n",
    "                             X_test,\n",
    "                             y_test,\n",
    "                             name = \"DecisionTrees\",\n",
    "                             config = None,\n",
    "                             tags = None)"
   ]
  },
  {
   "cell_type": "code",
   "execution_count": 30,
   "metadata": {},
   "outputs": [
    {
     "data": {
      "text/plain": [
       "{'dt__criterion': 'entropy', 'dt__max_depth': 20, 'dt__min_samples_leaf': 5}"
      ]
     },
     "execution_count": 30,
     "metadata": {},
     "output_type": "execute_result"
    }
   ],
   "source": [
    "dt_clf.best_params_"
   ]
  },
  {
   "cell_type": "code",
   "execution_count": 31,
   "metadata": {},
   "outputs": [
    {
     "data": {
      "text/plain": [
       "0.8852560148056755"
      ]
     },
     "execution_count": 31,
     "metadata": {},
     "output_type": "execute_result"
    }
   ],
   "source": [
    "dt_clf.score(X_test,y_test)"
   ]
  },
  {
   "cell_type": "markdown",
   "metadata": {},
   "source": [
    "### 2.2.3 kNN"
   ]
  },
  {
   "cell_type": "code",
   "execution_count": 32,
   "metadata": {},
   "outputs": [],
   "source": [
    "# Create k Nearest Neighbor classifer object\n",
    "knn = KNeighborsClassifier()\n",
    "\n",
    "params_knn = {'knn__n_neighbors': [5,10,15,20,25],\n",
    "            'knn__weights': ['uniform','distance'],\n",
    "            'knn__leaf_size': [10,20,30,40,50]}\n",
    "\n",
    "# Pipeline \n",
    "knn_pipe = Pipeline(steps=[('pre', preprocessor),\n",
    "                          ('knn',knn)])\n",
    "\n",
    "\n",
    "#Grid Search\n",
    "knn_clf = GridSearchCV(estimator = knn_pipe, \n",
    "                       param_grid = params_knn, \n",
    "                       cv = 5, verbose=2, \n",
    "                       n_jobs = -1)"
   ]
  },
  {
   "cell_type": "code",
   "execution_count": 33,
   "metadata": {},
   "outputs": [
    {
     "name": "stdout",
     "output_type": "stream",
     "text": [
      "Fitting 5 folds for each of 50 candidates, totalling 250 fits\n"
     ]
    },
    {
     "data": {
      "text/html": [
       "\n",
       "                    Syncing run <strong><a href=\"https://wandb.ai/apollo101/CreditChurn/runs/3ue1zn8n\" target=\"_blank\">quiet-surf-23</a></strong> to <a href=\"https://wandb.ai/apollo101/CreditChurn\" target=\"_blank\">Weights & Biases</a> (<a href=\"https://docs.wandb.com/integrations/jupyter.html\" target=\"_blank\">docs</a>).<br/>\n",
       "\n",
       "                "
      ],
      "text/plain": [
       "<IPython.core.display.HTML object>"
      ]
     },
     "metadata": {},
     "output_type": "display_data"
    },
    {
     "name": "stderr",
     "output_type": "stream",
     "text": [
      "wandb: WARNING Calling run.save without any arguments is deprecated.Changes to attributes are automatically persisted.\n"
     ]
    },
    {
     "data": {
      "text/html": [
       "<br/>Waiting for W&B process to finish, PID 11216... <strong style=\"color:green\">(success).</strong>"
      ],
      "text/plain": [
       "<IPython.core.display.HTML object>"
      ]
     },
     "metadata": {},
     "output_type": "display_data"
    },
    {
     "data": {
      "application/vnd.jupyter.widget-view+json": {
       "model_id": "",
       "version_major": 2,
       "version_minor": 0
      },
      "text/plain": [
       "VBox(children=(Label(value=' 0.00MB of 0.00MB uploaded (0.00MB deduped)\\r'), FloatProgress(value=1.0, max=1.0)…"
      ]
     },
     "metadata": {},
     "output_type": "display_data"
    },
    {
     "data": {
      "text/html": [
       "<style>\n",
       "    table.wandb td:nth-child(1) { padding: 0 10px; text-align: right }\n",
       "    .wandb-row { display: flex; flex-direction: row; flex-wrap: wrap; width: 100% }\n",
       "    .wandb-col { display: flex; flex-direction: column; flex-basis: 100%; flex: 1; padding: 10px; }\n",
       "    </style>\n",
       "<div class=\"wandb-row\"><div class=\"wandb-col\">\n",
       "<h3>Run history:</h3><br/><table class=\"wandb\"><tr><td>accuracy</td><td>▁</td></tr><tr><td>f1_score</td><td>▁</td></tr><tr><td>precision</td><td>▁</td></tr><tr><td>recall</td><td>▁</td></tr></table><br/></div><div class=\"wandb-col\">\n",
       "<h3>Run summary:</h3><br/><table class=\"wandb\"><tr><td>accuracy</td><td>0.87785</td></tr><tr><td>f1_score</td><td>0.69444</td></tr><tr><td>precision</td><td>0.83955</td></tr><tr><td>recall</td><td>0.59211</td></tr></table>\n",
       "</div></div>\n",
       "Synced 5 W&B file(s), 3 media file(s), 3 artifact file(s) and 0 other file(s)\n",
       "<br/>Synced <strong style=\"color:#cdcd00\">quiet-surf-23</strong>: <a href=\"https://wandb.ai/apollo101/CreditChurn/runs/3ue1zn8n\" target=\"_blank\">https://wandb.ai/apollo101/CreditChurn/runs/3ue1zn8n</a><br/>\n",
       "Find logs at: <code>.\\wandb\\run-20211130_170136-3ue1zn8n\\logs</code><br/>\n"
      ],
      "text/plain": [
       "<IPython.core.display.HTML object>"
      ]
     },
     "metadata": {},
     "output_type": "display_data"
    }
   ],
   "source": [
    "knn_clf = run_model_experiment(knn_clf,\n",
    "                             X_train,\n",
    "                             y_train,\n",
    "                             X_test,\n",
    "                             y_test,\n",
    "                             name = \"KNN\",\n",
    "                             config = None,\n",
    "                             tags = None)"
   ]
  },
  {
   "cell_type": "code",
   "execution_count": 34,
   "metadata": {},
   "outputs": [
    {
     "data": {
      "text/plain": [
       "{'knn__leaf_size': 10, 'knn__n_neighbors': 10, 'knn__weights': 'uniform'}"
      ]
     },
     "execution_count": 34,
     "metadata": {},
     "output_type": "execute_result"
    }
   ],
   "source": [
    "knn_clf.best_params_"
   ]
  },
  {
   "cell_type": "code",
   "execution_count": 35,
   "metadata": {},
   "outputs": [
    {
     "data": {
      "text/plain": [
       "0.8778531770512029"
      ]
     },
     "execution_count": 35,
     "metadata": {},
     "output_type": "execute_result"
    }
   ],
   "source": [
    "knn_clf.score(X_test,y_test)"
   ]
  },
  {
   "cell_type": "markdown",
   "metadata": {},
   "source": [
    "### 2.2.4 Random Forest"
   ]
  },
  {
   "cell_type": "code",
   "execution_count": 36,
   "metadata": {},
   "outputs": [],
   "source": [
    "#Create a Random Forest Classifier\n",
    "rf = RandomForestClassifier()\n",
    "\n",
    "params_rf = {'rf__n_estimators': [100, 200, 300, 400, 500], \n",
    "               'rf__max_features': ['auto', 'sqrt'],\n",
    "               'rf__max_depth': [10, 20, 30, 40, 50]}\n",
    "\n",
    "rf_pipe = Pipeline(steps=[('pre',preprocessor),\n",
    "                         ('rf',rf)])\n",
    "\n",
    "#Grid Search\n",
    "rf_clf = GridSearchCV(estimator = rf_pipe, \n",
    "                       param_grid = params_rf, \n",
    "                       cv = 5, verbose=2, \n",
    "                       n_jobs = -1)"
   ]
  },
  {
   "cell_type": "code",
   "execution_count": 37,
   "metadata": {},
   "outputs": [
    {
     "name": "stdout",
     "output_type": "stream",
     "text": [
      "Fitting 5 folds for each of 50 candidates, totalling 250 fits\n"
     ]
    },
    {
     "data": {
      "text/html": [
       "\n",
       "                    Syncing run <strong><a href=\"https://wandb.ai/apollo101/CreditChurn/runs/12qf6brw\" target=\"_blank\">neat-deluge-24</a></strong> to <a href=\"https://wandb.ai/apollo101/CreditChurn\" target=\"_blank\">Weights & Biases</a> (<a href=\"https://docs.wandb.com/integrations/jupyter.html\" target=\"_blank\">docs</a>).<br/>\n",
       "\n",
       "                "
      ],
      "text/plain": [
       "<IPython.core.display.HTML object>"
      ]
     },
     "metadata": {},
     "output_type": "display_data"
    },
    {
     "name": "stderr",
     "output_type": "stream",
     "text": [
      "wandb: WARNING Calling run.save without any arguments is deprecated.Changes to attributes are automatically persisted.\n"
     ]
    },
    {
     "data": {
      "text/html": [
       "<br/>Waiting for W&B process to finish, PID 16720... <strong style=\"color:green\">(success).</strong>"
      ],
      "text/plain": [
       "<IPython.core.display.HTML object>"
      ]
     },
     "metadata": {},
     "output_type": "display_data"
    },
    {
     "data": {
      "application/vnd.jupyter.widget-view+json": {
       "model_id": "",
       "version_major": 2,
       "version_minor": 0
      },
      "text/plain": [
       "VBox(children=(Label(value=' 0.02MB of 0.02MB uploaded (0.00MB deduped)\\r'), FloatProgress(value=1.0, max=1.0)…"
      ]
     },
     "metadata": {},
     "output_type": "display_data"
    },
    {
     "data": {
      "text/html": [
       "<style>\n",
       "    table.wandb td:nth-child(1) { padding: 0 10px; text-align: right }\n",
       "    .wandb-row { display: flex; flex-direction: row; flex-wrap: wrap; width: 100% }\n",
       "    .wandb-col { display: flex; flex-direction: column; flex-basis: 100%; flex: 1; padding: 10px; }\n",
       "    </style>\n",
       "<div class=\"wandb-row\"><div class=\"wandb-col\">\n",
       "<h3>Run history:</h3><br/><table class=\"wandb\"><tr><td>accuracy</td><td>▁</td></tr><tr><td>f1_score</td><td>▁</td></tr><tr><td>precision</td><td>▁</td></tr><tr><td>recall</td><td>▁</td></tr></table><br/></div><div class=\"wandb-col\">\n",
       "<h3>Run summary:</h3><br/><table class=\"wandb\"><tr><td>accuracy</td><td>0.9235</td></tr><tr><td>f1_score</td><td>0.77698</td></tr><tr><td>precision</td><td>0.80597</td></tr><tr><td>recall</td><td>0.75</td></tr></table>\n",
       "</div></div>\n",
       "Synced 5 W&B file(s), 3 media file(s), 3 artifact file(s) and 0 other file(s)\n",
       "<br/>Synced <strong style=\"color:#cdcd00\">neat-deluge-24</strong>: <a href=\"https://wandb.ai/apollo101/CreditChurn/runs/12qf6brw\" target=\"_blank\">https://wandb.ai/apollo101/CreditChurn/runs/12qf6brw</a><br/>\n",
       "Find logs at: <code>.\\wandb\\run-20211130_170621-12qf6brw\\logs</code><br/>\n"
      ],
      "text/plain": [
       "<IPython.core.display.HTML object>"
      ]
     },
     "metadata": {},
     "output_type": "display_data"
    }
   ],
   "source": [
    "rf_clf = run_model_experiment(rf_clf,\n",
    "                             X_train,\n",
    "                             y_train,\n",
    "                             X_test,\n",
    "                             y_test,\n",
    "                             name = \"RandomForest\",\n",
    "                             config = None,\n",
    "                             tags = None)"
   ]
  },
  {
   "cell_type": "code",
   "execution_count": 38,
   "metadata": {},
   "outputs": [
    {
     "data": {
      "text/plain": [
       "{'rf__max_depth': 50, 'rf__max_features': 'auto', 'rf__n_estimators': 500}"
      ]
     },
     "execution_count": 38,
     "metadata": {},
     "output_type": "execute_result"
    }
   ],
   "source": [
    "rf_clf.best_params_"
   ]
  },
  {
   "cell_type": "code",
   "execution_count": 39,
   "metadata": {},
   "outputs": [
    {
     "data": {
      "text/plain": [
       "0.9235040098704503"
      ]
     },
     "execution_count": 39,
     "metadata": {},
     "output_type": "execute_result"
    }
   ],
   "source": [
    "rf_clf.score(X_test,y_test)"
   ]
  },
  {
   "cell_type": "markdown",
   "metadata": {},
   "source": [
    "### 2.2.5 XG Boost"
   ]
  },
  {
   "cell_type": "code",
   "execution_count": 40,
   "metadata": {},
   "outputs": [],
   "source": [
    "xg =   xgboost.XGBClassifier(use_label_encoder = False)\n",
    "\n",
    "params_xg = {'xg__gamma': [0.5, 1, 1.5, 2],\n",
    "        'xg__subsample': [0.6, 0.8, 1.0],\n",
    "        'xg__max_depth': [4,6,10,12,15],\n",
    "        'xg__eval_metric':['logloss']}\n",
    "\n",
    "xg_pipe = Pipeline(steps=[('pre',preprocessor),\n",
    "                          ('xg',xg)])\n",
    "\n",
    "#Grid Search\n",
    "xg_clf = GridSearchCV(estimator = xg_pipe, \n",
    "                       param_grid = params_xg, \n",
    "                       cv = 5, verbose=2, \n",
    "                       n_jobs = -1)\n"
   ]
  },
  {
   "cell_type": "code",
   "execution_count": 41,
   "metadata": {},
   "outputs": [
    {
     "name": "stdout",
     "output_type": "stream",
     "text": [
      "Fitting 5 folds for each of 60 candidates, totalling 300 fits\n"
     ]
    },
    {
     "data": {
      "text/html": [
       "\n",
       "                    Syncing run <strong><a href=\"https://wandb.ai/apollo101/CreditChurn/runs/2qejfod4\" target=\"_blank\">dulcet-sea-25</a></strong> to <a href=\"https://wandb.ai/apollo101/CreditChurn\" target=\"_blank\">Weights & Biases</a> (<a href=\"https://docs.wandb.com/integrations/jupyter.html\" target=\"_blank\">docs</a>).<br/>\n",
       "\n",
       "                "
      ],
      "text/plain": [
       "<IPython.core.display.HTML object>"
      ]
     },
     "metadata": {},
     "output_type": "display_data"
    },
    {
     "name": "stderr",
     "output_type": "stream",
     "text": [
      "wandb: WARNING Calling run.save without any arguments is deprecated.Changes to attributes are automatically persisted.\n"
     ]
    },
    {
     "data": {
      "text/html": [
       "<br/>Waiting for W&B process to finish, PID 12920... <strong style=\"color:green\">(success).</strong>"
      ],
      "text/plain": [
       "<IPython.core.display.HTML object>"
      ]
     },
     "metadata": {},
     "output_type": "display_data"
    },
    {
     "data": {
      "application/vnd.jupyter.widget-view+json": {
       "model_id": "",
       "version_major": 2,
       "version_minor": 0
      },
      "text/plain": [
       "VBox(children=(Label(value=' 0.02MB of 0.02MB uploaded (0.00MB deduped)\\r'), FloatProgress(value=1.0, max=1.0)…"
      ]
     },
     "metadata": {},
     "output_type": "display_data"
    },
    {
     "data": {
      "text/html": [
       "<style>\n",
       "    table.wandb td:nth-child(1) { padding: 0 10px; text-align: right }\n",
       "    .wandb-row { display: flex; flex-direction: row; flex-wrap: wrap; width: 100% }\n",
       "    .wandb-col { display: flex; flex-direction: column; flex-basis: 100%; flex: 1; padding: 10px; }\n",
       "    </style>\n",
       "<div class=\"wandb-row\"><div class=\"wandb-col\">\n",
       "<h3>Run history:</h3><br/><table class=\"wandb\"><tr><td>accuracy</td><td>▁</td></tr><tr><td>f1_score</td><td>▁</td></tr><tr><td>precision</td><td>▁</td></tr><tr><td>recall</td><td>▁</td></tr></table><br/></div><div class=\"wandb-col\">\n",
       "<h3>Run summary:</h3><br/><table class=\"wandb\"><tr><td>accuracy</td><td>0.93214</td></tr><tr><td>f1_score</td><td>0.79853</td></tr><tr><td>precision</td><td>0.81343</td></tr><tr><td>recall</td><td>0.78417</td></tr></table>\n",
       "</div></div>\n",
       "Synced 5 W&B file(s), 3 media file(s), 3 artifact file(s) and 0 other file(s)\n",
       "<br/>Synced <strong style=\"color:#cdcd00\">dulcet-sea-25</strong>: <a href=\"https://wandb.ai/apollo101/CreditChurn/runs/2qejfod4\" target=\"_blank\">https://wandb.ai/apollo101/CreditChurn/runs/2qejfod4</a><br/>\n",
       "Find logs at: <code>.\\wandb\\run-20211130_171118-2qejfod4\\logs</code><br/>\n"
      ],
      "text/plain": [
       "<IPython.core.display.HTML object>"
      ]
     },
     "metadata": {},
     "output_type": "display_data"
    }
   ],
   "source": [
    "xg_clf = run_model_experiment(xg_clf,\n",
    "                             X_train,\n",
    "                             y_train,\n",
    "                             X_test,\n",
    "                             y_test,\n",
    "                             name = \"XGBoost\",\n",
    "                             config = None,\n",
    "                             tags = None)"
   ]
  },
  {
   "cell_type": "code",
   "execution_count": 42,
   "metadata": {},
   "outputs": [
    {
     "data": {
      "text/plain": [
       "{'xg__eval_metric': 'logloss',\n",
       " 'xg__gamma': 0.5,\n",
       " 'xg__max_depth': 10,\n",
       " 'xg__subsample': 0.6}"
      ]
     },
     "execution_count": 42,
     "metadata": {},
     "output_type": "execute_result"
    }
   ],
   "source": [
    "xg_clf.best_params_"
   ]
  },
  {
   "cell_type": "code",
   "execution_count": 43,
   "metadata": {},
   "outputs": [
    {
     "data": {
      "text/plain": [
       "0.932140653917335"
      ]
     },
     "execution_count": 43,
     "metadata": {},
     "output_type": "execute_result"
    }
   ],
   "source": [
    "xg_clf.score(X_test,y_test)"
   ]
  },
  {
   "cell_type": "markdown",
   "metadata": {},
   "source": [
    "### 2.2.6 Voting Classifier "
   ]
  },
  {
   "cell_type": "code",
   "execution_count": 44,
   "metadata": {},
   "outputs": [],
   "source": [
    "# Top 3 models \n",
    "knn_final = KNeighborsClassifier(leaf_size= 10,\n",
    "                                 n_neighbors= 10,\n",
    "                                 weights='uniform')\n",
    "\n",
    "rf_final = RandomForestClassifier(max_depth=20,\n",
    "                                  max_features= 'auto',\n",
    "                                  n_estimators= 200)\n",
    "\n",
    "xg_final = xgboost.XGBClassifier(eval_metric= 'logloss',\n",
    "                                 gamma= 0.5,\n",
    "                                 max_depth= 10,\n",
    "                                 subsample= 0.8,\n",
    "                                 use_label_encoder = False)\n"
   ]
  },
  {
   "cell_type": "code",
   "execution_count": 45,
   "metadata": {},
   "outputs": [],
   "source": [
    "estimators = [('knn', knn_final),\n",
    "              ('rf', rf_final),\n",
    "              ('xgb',xg_final)]"
   ]
  },
  {
   "cell_type": "code",
   "execution_count": 46,
   "metadata": {},
   "outputs": [],
   "source": [
    "voting = VotingClassifier(estimators= estimators,voting= 'soft')\n",
    "\n",
    "voting_clf = Pipeline(steps=[('pre',preprocessor),\n",
    "                            ('vote',voting)])"
   ]
  },
  {
   "cell_type": "code",
   "execution_count": 47,
   "metadata": {},
   "outputs": [
    {
     "data": {
      "text/html": [
       "\n",
       "                    Syncing run <strong><a href=\"https://wandb.ai/apollo101/CreditChurn/runs/1p5h2iah\" target=\"_blank\">fine-flower-26</a></strong> to <a href=\"https://wandb.ai/apollo101/CreditChurn\" target=\"_blank\">Weights & Biases</a> (<a href=\"https://docs.wandb.com/integrations/jupyter.html\" target=\"_blank\">docs</a>).<br/>\n",
       "\n",
       "                "
      ],
      "text/plain": [
       "<IPython.core.display.HTML object>"
      ]
     },
     "metadata": {},
     "output_type": "display_data"
    },
    {
     "name": "stderr",
     "output_type": "stream",
     "text": [
      "wandb: WARNING Calling run.save without any arguments is deprecated.Changes to attributes are automatically persisted.\n"
     ]
    },
    {
     "data": {
      "text/html": [
       "<br/>Waiting for W&B process to finish, PID 14656... <strong style=\"color:green\">(success).</strong>"
      ],
      "text/plain": [
       "<IPython.core.display.HTML object>"
      ]
     },
     "metadata": {},
     "output_type": "display_data"
    },
    {
     "data": {
      "application/vnd.jupyter.widget-view+json": {
       "model_id": "",
       "version_major": 2,
       "version_minor": 0
      },
      "text/plain": [
       "VBox(children=(Label(value=' 0.01MB of 0.01MB uploaded (0.00MB deduped)\\r'), FloatProgress(value=1.0, max=1.0)…"
      ]
     },
     "metadata": {},
     "output_type": "display_data"
    },
    {
     "data": {
      "text/html": [
       "<style>\n",
       "    table.wandb td:nth-child(1) { padding: 0 10px; text-align: right }\n",
       "    .wandb-row { display: flex; flex-direction: row; flex-wrap: wrap; width: 100% }\n",
       "    .wandb-col { display: flex; flex-direction: column; flex-basis: 100%; flex: 1; padding: 10px; }\n",
       "    </style>\n",
       "<div class=\"wandb-row\"><div class=\"wandb-col\">\n",
       "<h3>Run history:</h3><br/><table class=\"wandb\"><tr><td>accuracy</td><td>▁</td></tr><tr><td>f1_score</td><td>▁</td></tr><tr><td>precision</td><td>▁</td></tr><tr><td>recall</td><td>▁</td></tr></table><br/></div><div class=\"wandb-col\">\n",
       "<h3>Run summary:</h3><br/><table class=\"wandb\"><tr><td>accuracy</td><td>0.93091</td></tr><tr><td>f1_score</td><td>0.80142</td></tr><tr><td>precision</td><td>0.84328</td></tr><tr><td>recall</td><td>0.76351</td></tr></table>\n",
       "</div></div>\n",
       "Synced 5 W&B file(s), 3 media file(s), 3 artifact file(s) and 0 other file(s)\n",
       "<br/>Synced <strong style=\"color:#cdcd00\">fine-flower-26</strong>: <a href=\"https://wandb.ai/apollo101/CreditChurn/runs/1p5h2iah\" target=\"_blank\">https://wandb.ai/apollo101/CreditChurn/runs/1p5h2iah</a><br/>\n",
       "Find logs at: <code>.\\wandb\\run-20211130_171147-1p5h2iah\\logs</code><br/>\n"
      ],
      "text/plain": [
       "<IPython.core.display.HTML object>"
      ]
     },
     "metadata": {},
     "output_type": "display_data"
    }
   ],
   "source": [
    "voting_clf = run_model_experiment(voting_clf,\n",
    "                             X_train,\n",
    "                             y_train,\n",
    "                             X_test,\n",
    "                             y_test,\n",
    "                             name = \"VotingClassifier\",\n",
    "                             config = None,\n",
    "                             tags = None)"
   ]
  },
  {
   "cell_type": "code",
   "execution_count": 48,
   "metadata": {},
   "outputs": [
    {
     "data": {
      "text/plain": [
       "0.9309068476249229"
      ]
     },
     "execution_count": 48,
     "metadata": {},
     "output_type": "execute_result"
    }
   ],
   "source": [
    "voting_clf.score(X_test,y_test)"
   ]
  },
  {
   "cell_type": "markdown",
   "metadata": {},
   "source": [
    "### 2.2.7 Stacking Classifier"
   ]
  },
  {
   "cell_type": "code",
   "execution_count": 49,
   "metadata": {},
   "outputs": [],
   "source": [
    "final_estimator = LogisticRegression()\n",
    "\n",
    "stacking = StackingClassifier(estimators= estimators,\n",
    "                             final_estimator= final_estimator)\n",
    "\n",
    "stacking_clf = Pipeline(steps=[('pre',preprocessor),\n",
    "                              ('stack',stacking)])"
   ]
  },
  {
   "cell_type": "code",
   "execution_count": 50,
   "metadata": {},
   "outputs": [
    {
     "data": {
      "text/html": [
       "\n",
       "                    Syncing run <strong><a href=\"https://wandb.ai/apollo101/CreditChurn/runs/24irmwqd\" target=\"_blank\">dazzling-tree-27</a></strong> to <a href=\"https://wandb.ai/apollo101/CreditChurn\" target=\"_blank\">Weights & Biases</a> (<a href=\"https://docs.wandb.com/integrations/jupyter.html\" target=\"_blank\">docs</a>).<br/>\n",
       "\n",
       "                "
      ],
      "text/plain": [
       "<IPython.core.display.HTML object>"
      ]
     },
     "metadata": {},
     "output_type": "display_data"
    },
    {
     "name": "stderr",
     "output_type": "stream",
     "text": [
      "wandb: WARNING Calling run.save without any arguments is deprecated.Changes to attributes are automatically persisted.\n"
     ]
    },
    {
     "data": {
      "text/html": [
       "<br/>Waiting for W&B process to finish, PID 8168... <strong style=\"color:green\">(success).</strong>"
      ],
      "text/plain": [
       "<IPython.core.display.HTML object>"
      ]
     },
     "metadata": {},
     "output_type": "display_data"
    },
    {
     "data": {
      "application/vnd.jupyter.widget-view+json": {
       "model_id": "",
       "version_major": 2,
       "version_minor": 0
      },
      "text/plain": [
       "VBox(children=(Label(value=' 0.02MB of 0.02MB uploaded (0.00MB deduped)\\r'), FloatProgress(value=1.0, max=1.0)…"
      ]
     },
     "metadata": {},
     "output_type": "display_data"
    },
    {
     "data": {
      "text/html": [
       "<style>\n",
       "    table.wandb td:nth-child(1) { padding: 0 10px; text-align: right }\n",
       "    .wandb-row { display: flex; flex-direction: row; flex-wrap: wrap; width: 100% }\n",
       "    .wandb-col { display: flex; flex-direction: column; flex-basis: 100%; flex: 1; padding: 10px; }\n",
       "    </style>\n",
       "<div class=\"wandb-row\"><div class=\"wandb-col\">\n",
       "<h3>Run history:</h3><br/><table class=\"wandb\"><tr><td>accuracy</td><td>▁</td></tr><tr><td>f1_score</td><td>▁</td></tr><tr><td>precision</td><td>▁</td></tr><tr><td>recall</td><td>▁</td></tr></table><br/></div><div class=\"wandb-col\">\n",
       "<h3>Run summary:</h3><br/><table class=\"wandb\"><tr><td>accuracy</td><td>0.93337</td></tr><tr><td>f1_score</td><td>0.80147</td></tr><tr><td>precision</td><td>0.81343</td></tr><tr><td>recall</td><td>0.78986</td></tr></table>\n",
       "</div></div>\n",
       "Synced 5 W&B file(s), 3 media file(s), 3 artifact file(s) and 0 other file(s)\n",
       "<br/>Synced <strong style=\"color:#cdcd00\">dazzling-tree-27</strong>: <a href=\"https://wandb.ai/apollo101/CreditChurn/runs/24irmwqd\" target=\"_blank\">https://wandb.ai/apollo101/CreditChurn/runs/24irmwqd</a><br/>\n",
       "Find logs at: <code>.\\wandb\\run-20211130_171231-24irmwqd\\logs</code><br/>\n"
      ],
      "text/plain": [
       "<IPython.core.display.HTML object>"
      ]
     },
     "metadata": {},
     "output_type": "display_data"
    }
   ],
   "source": [
    "stacking_clf = run_model_experiment(stacking_clf,\n",
    "                             X_train,\n",
    "                             y_train,\n",
    "                             X_test,\n",
    "                             y_test,\n",
    "                             name = \"StackingClassifier\",\n",
    "                             config = None,\n",
    "                             tags = None)"
   ]
  },
  {
   "cell_type": "code",
   "execution_count": 51,
   "metadata": {},
   "outputs": [
    {
     "data": {
      "text/plain": [
       "0.933374460209747"
      ]
     },
     "execution_count": 51,
     "metadata": {},
     "output_type": "execute_result"
    }
   ],
   "source": [
    "stacking_clf.score(X_test,y_test)"
   ]
  },
  {
   "cell_type": "markdown",
   "metadata": {},
   "source": [
    "## 2.3 Final Model  "
   ]
  },
  {
   "cell_type": "markdown",
   "metadata": {},
   "source": [
    "XG Boost gave the best accuracy score of 0.93, thus going forward with XG Boost"
   ]
  },
  {
   "cell_type": "markdown",
   "metadata": {},
   "source": [
    "### Feature Selection"
   ]
  },
  {
   "cell_type": "code",
   "execution_count": 52,
   "metadata": {},
   "outputs": [],
   "source": [
    "import warnings\n",
    "import seaborn as sns\n",
    "import matplotlib.pylab as plt"
   ]
  },
  {
   "cell_type": "code",
   "execution_count": 53,
   "metadata": {},
   "outputs": [],
   "source": [
    "def get_feature_names(column_transformer):\n",
    "    \"\"\"Get feature names from all transformers.\n",
    "    Returns\n",
    "    -------\n",
    "    feature_names : list of strings\n",
    "        Names of the features produced by transform.\n",
    "    \"\"\"\n",
    "    # Remove the internal helper function\n",
    "    #check_is_fitted(column_transformer)\n",
    "    \n",
    "    # Turn loopkup into function for better handling with pipeline later\n",
    "    def get_names(trans):\n",
    "        # >> Original get_feature_names() method\n",
    "        if trans == 'drop' or (\n",
    "                hasattr(column, '__len__') and not len(column)):\n",
    "            return []\n",
    "        if trans == 'passthrough':\n",
    "            if hasattr(column_transformer, '_df_columns'):\n",
    "                if ((not isinstance(column, slice))\n",
    "                        and all(isinstance(col, str) for col in column)):\n",
    "                    return column\n",
    "                else:\n",
    "                    return column_transformer._df_columns[column]\n",
    "            else:\n",
    "                indices = np.arange(column_transformer._n_features)\n",
    "                return ['x%d' % i for i in indices[column]]\n",
    "        if not hasattr(trans, 'get_feature_names'):\n",
    "        # >>> Change: Return input column names if no method avaiable\n",
    "            # Turn error into a warning\n",
    "            warnings.warn(\"Transformer %s (type %s) does not \"\n",
    "                                 \"provide get_feature_names. \"\n",
    "                                 \"Will return input column names if available\"\n",
    "                                 % (str(name), type(trans).__name__))\n",
    "            # For transformers without a get_features_names method, use the input\n",
    "            # names to the column transformer\n",
    "            if column is None:\n",
    "                return []\n",
    "            else:\n",
    "                return [name + \"__\" + f for f in column]\n",
    "\n",
    "        return [name + \"__\" + f for f in trans.get_feature_names()]\n",
    "    \n",
    "    ### Start of processing\n",
    "    feature_names = []\n",
    "    \n",
    "    # Allow transformers to be pipelines. Pipeline steps are named differently, so preprocessing is needed\n",
    "    if type(column_transformer) == sklearn.pipeline.Pipeline:\n",
    "        l_transformers = [(name, trans, None, None) for step, name, trans in column_transformer._iter()]\n",
    "    else:\n",
    "        # For column transformers, follow the original method\n",
    "        l_transformers = list(column_transformer._iter(fitted=True))\n",
    "    \n",
    "    \n",
    "    for name, trans, column, _ in l_transformers: \n",
    "        if type(trans) == sklearn.pipeline.Pipeline:\n",
    "            # Recursive call on pipeline\n",
    "            _names = get_feature_names(trans)\n",
    "            # if pipeline has no transformer that returns names\n",
    "            if len(_names)==0:\n",
    "                _names = [name + \"__\" + f for f in column]\n",
    "            feature_names.extend(_names)\n",
    "        else:\n",
    "            feature_names.extend(get_names(trans))\n",
    "    \n",
    "    return feature_names"
   ]
  },
  {
   "cell_type": "code",
   "execution_count": 56,
   "metadata": {},
   "outputs": [
    {
     "data": {
      "text/plain": [
       "XGBClassifier(base_score=0.5, booster='gbtree', colsample_bylevel=1,\n",
       "              colsample_bynode=1, colsample_bytree=1, enable_categorical=False,\n",
       "              eval_metric='logloss', gamma=0.5, gpu_id=-1, importance_type=None,\n",
       "              interaction_constraints='', learning_rate=0.300000012,\n",
       "              max_delta_step=0, max_depth=10, min_child_weight=1, missing=nan,\n",
       "              monotone_constraints='()', n_estimators=100, n_jobs=8,\n",
       "              num_parallel_tree=1, predictor='auto', random_state=0,\n",
       "              reg_alpha=0, reg_lambda=1, scale_pos_weight=1, subsample=0.8,\n",
       "              tree_method='exact', use_label_encoder=False,\n",
       "              validate_parameters=1, verbosity=None)"
      ]
     },
     "execution_count": 56,
     "metadata": {},
     "output_type": "execute_result"
    }
   ],
   "source": [
    "xg_final.fit(preprocessor.transform(X_train),y_train)"
   ]
  },
  {
   "cell_type": "code",
   "execution_count": 58,
   "metadata": {},
   "outputs": [
    {
     "name": "stderr",
     "output_type": "stream",
     "text": [
      "C:\\Users\\robin\\anaconda3\\lib\\site-packages\\ipykernel_launcher.py:33: UserWarning: Transformer bin (type KBinsDiscretizer) does not provide get_feature_names. Will return input column names if available\n",
      "C:\\Users\\robin\\anaconda3\\lib\\site-packages\\ipykernel_launcher.py:33: UserWarning: Transformer scaler (type StandardScaler) does not provide get_feature_names. Will return input column names if available\n"
     ]
    },
    {
     "data": {
      "image/png": "[encoded data removed]",
      "text/plain": [
       "<Figure size 864x576 with 1 Axes>"
      ]
     },
     "metadata": {},
     "output_type": "display_data"
    }
   ],
   "source": [
    "feature_imp = pd.Series(xg_final.feature_importances_,index=get_feature_names(preprocessor)).sort_values(ascending=False)\n",
    "\n",
    "# Creating a bar plot\n",
    "sns.barplot(x=feature_imp, y=feature_imp.index)\n",
    "sns.set(rc={'figure.figsize':(12,8)})\n",
    "plt.xlabel('Feature Importance Score')\n",
    "plt.ylabel('Features')\n",
    "plt.title(\"Visualizing Important Features (XG Boost)\")\n",
    "plt.show()"
   ]
  },
  {
   "cell_type": "markdown",
   "metadata": {},
   "source": [
    "### Most Important Features"
   ]
  },
  {
   "cell_type": "code",
   "execution_count": 59,
   "metadata": {},
   "outputs": [],
   "source": [
    "imp_features = ['Total_Trans_Ct','Total_Revolving_Bal','Total_Relationship_Count','Total_Trans_Amt','Gender',\n",
    "                'Total_Ct_Chng_Q4_Q1','Months_Inactive_12_mon','Avg_Utilization_Ratio','Customer_Age','Total_Amt_Chng_Q4_Q1']"
   ]
  },
  {
   "cell_type": "code",
   "execution_count": 60,
   "metadata": {},
   "outputs": [
    {
     "data": {
      "text/plain": [
       "ColumnTransformer(transformers=[('ohe', OneHotEncoder(), ['Gender']),\n",
       "                                ('bin',\n",
       "                                 KBinsDiscretizer(encode='ordinal',\n",
       "                                                  strategy='uniform'),\n",
       "                                 ['Total_Revolving_Bal', 'Total_Trans_Amt']),\n",
       "                                ('scaler', StandardScaler(),\n",
       "                                 ['Total_Trans_Ct', 'Total_Relationship_Count',\n",
       "                                  'Customer_Age', 'Total_Ct_Chng_Q4_Q1',\n",
       "                                  'Months_Inactive_12_mon',\n",
       "                                  'Avg_Utilization_Ratio',\n",
       "                                  'Total_Amt_Chng_Q4_Q1'])])"
      ]
     },
     "execution_count": 60,
     "metadata": {},
     "output_type": "execute_result"
    }
   ],
   "source": [
    "preprocessor2 = ColumnTransformer(transformers=[('ohe',ohe_encoder, ['Gender']),\n",
    "                                                ('bin',binner,['Total_Revolving_Bal','Total_Trans_Amt']),\n",
    "                                                ('scaler',scaler,['Total_Trans_Ct','Total_Relationship_Count','Customer_Age',\n",
    "                                                                 'Total_Ct_Chng_Q4_Q1','Months_Inactive_12_mon',\n",
    "                                                                  'Avg_Utilization_Ratio','Total_Amt_Chng_Q4_Q1'])],\n",
    "                                                 remainder='drop')\n",
    "preprocessor2"
   ]
  },
  {
   "cell_type": "code",
   "execution_count": 61,
   "metadata": {},
   "outputs": [],
   "source": [
    "xg =   xgboost.XGBClassifier(use_label_encoder = False)\n",
    "\n",
    "params_xg = {'xg__gamma': [0.5, 1, 1.5, 2],\n",
    "        'xg__subsample': [0.6, 0.8, 1.0],\n",
    "        'xg__max_depth': [4,6,10,12,15],\n",
    "        'xg__eval_metric':['logloss']}\n",
    "\n",
    "xg_pipe2 = Pipeline(steps=[('pre',preprocessor2),\n",
    "                          ('xg',xg)])\n",
    "\n",
    "#Grid Search\n",
    "xg_top = GridSearchCV(estimator = xg_pipe2, \n",
    "                       param_grid = params_xg, \n",
    "                       cv = 5, verbose=2, \n",
    "                       n_jobs = -1)"
   ]
  },
  {
   "cell_type": "code",
   "execution_count": 62,
   "metadata": {},
   "outputs": [
    {
     "name": "stdout",
     "output_type": "stream",
     "text": [
      "Fitting 5 folds for each of 60 candidates, totalling 300 fits\n"
     ]
    },
    {
     "data": {
      "text/html": [
       "\n",
       "                    Syncing run <strong><a href=\"https://wandb.ai/apollo101/CreditChurn/runs/266ojc1o\" target=\"_blank\">prime-microwave-28</a></strong> to <a href=\"https://wandb.ai/apollo101/CreditChurn\" target=\"_blank\">Weights & Biases</a> (<a href=\"https://docs.wandb.com/integrations/jupyter.html\" target=\"_blank\">docs</a>).<br/>\n",
       "\n",
       "                "
      ],
      "text/plain": [
       "<IPython.core.display.HTML object>"
      ]
     },
     "metadata": {},
     "output_type": "display_data"
    },
    {
     "name": "stderr",
     "output_type": "stream",
     "text": [
      "wandb: WARNING Calling run.save without any arguments is deprecated.Changes to attributes are automatically persisted.\n"
     ]
    },
    {
     "data": {
      "text/html": [
       "<br/>Waiting for W&B process to finish, PID 14648... <strong style=\"color:green\">(success).</strong>"
      ],
      "text/plain": [
       "<IPython.core.display.HTML object>"
      ]
     },
     "metadata": {},
     "output_type": "display_data"
    },
    {
     "data": {
      "application/vnd.jupyter.widget-view+json": {
       "model_id": "",
       "version_major": 2,
       "version_minor": 0
      },
      "text/plain": [
       "VBox(children=(Label(value=' 0.02MB of 0.02MB uploaded (0.00MB deduped)\\r'), FloatProgress(value=1.0, max=1.0)…"
      ]
     },
     "metadata": {},
     "output_type": "display_data"
    },
    {
     "data": {
      "text/html": [
       "<style>\n",
       "    table.wandb td:nth-child(1) { padding: 0 10px; text-align: right }\n",
       "    .wandb-row { display: flex; flex-direction: row; flex-wrap: wrap; width: 100% }\n",
       "    .wandb-col { display: flex; flex-direction: column; flex-basis: 100%; flex: 1; padding: 10px; }\n",
       "    </style>\n",
       "<div class=\"wandb-row\"><div class=\"wandb-col\">\n",
       "<h3>Run history:</h3><br/><table class=\"wandb\"><tr><td>accuracy</td><td>▁</td></tr><tr><td>f1_score</td><td>▁</td></tr><tr><td>precision</td><td>▁</td></tr><tr><td>recall</td><td>▁</td></tr></table><br/></div><div class=\"wandb-col\">\n",
       "<h3>Run summary:</h3><br/><table class=\"wandb\"><tr><td>accuracy</td><td>0.92721</td></tr><tr><td>f1_score</td><td>0.78929</td></tr><tr><td>precision</td><td>0.82463</td></tr><tr><td>recall</td><td>0.75685</td></tr></table>\n",
       "</div></div>\n",
       "Synced 5 W&B file(s), 3 media file(s), 3 artifact file(s) and 0 other file(s)\n",
       "<br/>Synced <strong style=\"color:#cdcd00\">prime-microwave-28</strong>: <a href=\"https://wandb.ai/apollo101/CreditChurn/runs/266ojc1o\" target=\"_blank\">https://wandb.ai/apollo101/CreditChurn/runs/266ojc1o</a><br/>\n",
       "Find logs at: <code>.\\wandb\\run-20211130_171758-266ojc1o\\logs</code><br/>\n"
      ],
      "text/plain": [
       "<IPython.core.display.HTML object>"
      ]
     },
     "metadata": {},
     "output_type": "display_data"
    }
   ],
   "source": [
    "xg_top = run_model_experiment(xg_top,\n",
    "                             X_train,\n",
    "                             y_train,\n",
    "                             X_test,\n",
    "                             y_test,\n",
    "                             name = \"XGBoostTopFeatures\",\n",
    "                             config = None,\n",
    "                             tags = \"XG Boost\")"
   ]
  },
  {
   "cell_type": "code",
   "execution_count": 63,
   "metadata": {},
   "outputs": [],
   "source": [
    "xg_grid_results = pd.DataFrame(xg_top.cv_results_)"
   ]
  },
  {
   "cell_type": "markdown",
   "metadata": {},
   "source": [
    "### Using One Standard Error Rule "
   ]
  },
  {
   "cell_type": "code",
   "execution_count": 64,
   "metadata": {},
   "outputs": [],
   "source": [
    "highest_score_std = xg_grid_results[xg_grid_results.rank_test_score == 1].iloc[0]['std_test_score']\n",
    "highest_score_mean = xg_grid_results[xg_grid_results.rank_test_score == 1].iloc[0]['mean_test_score']"
   ]
  },
  {
   "cell_type": "code",
   "execution_count": 65,
   "metadata": {},
   "outputs": [
    {
     "data": {
      "text/plain": [
       "(0.9535603421840138, 0.017651743423313115)"
      ]
     },
     "execution_count": 65,
     "metadata": {},
     "output_type": "execute_result"
    }
   ],
   "source": [
    "highest_score_mean,highest_score_std"
   ]
  },
  {
   "cell_type": "code",
   "execution_count": 66,
   "metadata": {},
   "outputs": [
    {
     "data": {
      "text/plain": [
       "0.9479783707949571"
      ]
     },
     "execution_count": 66,
     "metadata": {},
     "output_type": "execute_result"
    }
   ],
   "source": [
    "std_error = highest_score_std / np.sqrt(10)\n",
    "one_standard_error = highest_score_mean - std_error\n",
    "one_standard_error"
   ]
  },
  {
   "cell_type": "code",
   "execution_count": 67,
   "metadata": {},
   "outputs": [
    {
     "data": {
      "text/html": [
       "<div>\n",
       "<style scoped>\n",
       "    .dataframe tbody tr th:only-of-type {\n",
       "        vertical-align: middle;\n",
       "    }\n",
       "\n",
       "    .dataframe tbody tr th {\n",
       "        vertical-align: top;\n",
       "    }\n",
       "\n",
       "    .dataframe thead th {\n",
       "        text-align: right;\n",
       "    }\n",
       "</style>\n",
       "<table border=\"1\" class=\"dataframe\">\n",
       "  <thead>\n",
       "    <tr style=\"text-align: right;\">\n",
       "      <th></th>\n",
       "      <th>mean_fit_time</th>\n",
       "      <th>std_fit_time</th>\n",
       "      <th>mean_score_time</th>\n",
       "      <th>std_score_time</th>\n",
       "      <th>param_xg__eval_metric</th>\n",
       "      <th>param_xg__gamma</th>\n",
       "      <th>param_xg__max_depth</th>\n",
       "      <th>param_xg__subsample</th>\n",
       "      <th>params</th>\n",
       "      <th>split0_test_score</th>\n",
       "      <th>split1_test_score</th>\n",
       "      <th>split2_test_score</th>\n",
       "      <th>split3_test_score</th>\n",
       "      <th>split4_test_score</th>\n",
       "      <th>mean_test_score</th>\n",
       "      <th>std_test_score</th>\n",
       "      <th>rank_test_score</th>\n",
       "    </tr>\n",
       "  </thead>\n",
       "  <tbody>\n",
       "    <tr>\n",
       "      <th>1</th>\n",
       "      <td>1.115363</td>\n",
       "      <td>0.025443</td>\n",
       "      <td>0.014474</td>\n",
       "      <td>1.162084e-03</td>\n",
       "      <td>logloss</td>\n",
       "      <td>0.5</td>\n",
       "      <td>4</td>\n",
       "      <td>0.8</td>\n",
       "      <td>{'xg__eval_metric': 'logloss', 'xg__gamma': 0....</td>\n",
       "      <td>0.916322</td>\n",
       "      <td>0.952644</td>\n",
       "      <td>0.956322</td>\n",
       "      <td>0.960000</td>\n",
       "      <td>0.964581</td>\n",
       "      <td>0.949974</td>\n",
       "      <td>0.017285</td>\n",
       "      <td>32</td>\n",
       "    </tr>\n",
       "    <tr>\n",
       "      <th>3</th>\n",
       "      <td>1.631437</td>\n",
       "      <td>0.039235</td>\n",
       "      <td>0.013953</td>\n",
       "      <td>7.642643e-03</td>\n",
       "      <td>logloss</td>\n",
       "      <td>0.5</td>\n",
       "      <td>6</td>\n",
       "      <td>0.6</td>\n",
       "      <td>{'xg__eval_metric': 'logloss', 'xg__gamma': 0....</td>\n",
       "      <td>0.914023</td>\n",
       "      <td>0.951724</td>\n",
       "      <td>0.954483</td>\n",
       "      <td>0.964598</td>\n",
       "      <td>0.962282</td>\n",
       "      <td>0.949422</td>\n",
       "      <td>0.018329</td>\n",
       "      <td>40</td>\n",
       "    </tr>\n",
       "    <tr>\n",
       "      <th>4</th>\n",
       "      <td>1.618551</td>\n",
       "      <td>0.031623</td>\n",
       "      <td>0.012698</td>\n",
       "      <td>6.359611e-03</td>\n",
       "      <td>logloss</td>\n",
       "      <td>0.5</td>\n",
       "      <td>6</td>\n",
       "      <td>0.8</td>\n",
       "      <td>{'xg__eval_metric': 'logloss', 'xg__gamma': 0....</td>\n",
       "      <td>0.916782</td>\n",
       "      <td>0.955402</td>\n",
       "      <td>0.952644</td>\n",
       "      <td>0.966437</td>\n",
       "      <td>0.964121</td>\n",
       "      <td>0.951077</td>\n",
       "      <td>0.017908</td>\n",
       "      <td>21</td>\n",
       "    </tr>\n",
       "    <tr>\n",
       "      <th>5</th>\n",
       "      <td>1.451110</td>\n",
       "      <td>0.031701</td>\n",
       "      <td>0.012597</td>\n",
       "      <td>6.051493e-03</td>\n",
       "      <td>logloss</td>\n",
       "      <td>0.5</td>\n",
       "      <td>6</td>\n",
       "      <td>1</td>\n",
       "      <td>{'xg__eval_metric': 'logloss', 'xg__gamma': 0....</td>\n",
       "      <td>0.917701</td>\n",
       "      <td>0.957241</td>\n",
       "      <td>0.957241</td>\n",
       "      <td>0.963218</td>\n",
       "      <td>0.967801</td>\n",
       "      <td>0.952641</td>\n",
       "      <td>0.017916</td>\n",
       "      <td>6</td>\n",
       "    </tr>\n",
       "    <tr>\n",
       "      <th>6</th>\n",
       "      <td>2.525307</td>\n",
       "      <td>0.024551</td>\n",
       "      <td>0.021074</td>\n",
       "      <td>1.339930e-02</td>\n",
       "      <td>logloss</td>\n",
       "      <td>0.5</td>\n",
       "      <td>10</td>\n",
       "      <td>0.6</td>\n",
       "      <td>{'xg__eval_metric': 'logloss', 'xg__gamma': 0....</td>\n",
       "      <td>0.919080</td>\n",
       "      <td>0.955862</td>\n",
       "      <td>0.953103</td>\n",
       "      <td>0.961379</td>\n",
       "      <td>0.961362</td>\n",
       "      <td>0.950157</td>\n",
       "      <td>0.015865</td>\n",
       "      <td>31</td>\n",
       "    </tr>\n",
       "    <tr>\n",
       "      <th>7</th>\n",
       "      <td>2.633268</td>\n",
       "      <td>0.079704</td>\n",
       "      <td>0.016157</td>\n",
       "      <td>7.076044e-04</td>\n",
       "      <td>logloss</td>\n",
       "      <td>0.5</td>\n",
       "      <td>10</td>\n",
       "      <td>0.8</td>\n",
       "      <td>{'xg__eval_metric': 'logloss', 'xg__gamma': 0....</td>\n",
       "      <td>0.920920</td>\n",
       "      <td>0.953103</td>\n",
       "      <td>0.955402</td>\n",
       "      <td>0.969655</td>\n",
       "      <td>0.968721</td>\n",
       "      <td>0.953560</td>\n",
       "      <td>0.017652</td>\n",
       "      <td>1</td>\n",
       "    </tr>\n",
       "    <tr>\n",
       "      <th>8</th>\n",
       "      <td>2.501102</td>\n",
       "      <td>0.065878</td>\n",
       "      <td>0.015354</td>\n",
       "      <td>7.114902e-04</td>\n",
       "      <td>logloss</td>\n",
       "      <td>0.5</td>\n",
       "      <td>10</td>\n",
       "      <td>1</td>\n",
       "      <td>{'xg__eval_metric': 'logloss', 'xg__gamma': 0....</td>\n",
       "      <td>0.918161</td>\n",
       "      <td>0.954023</td>\n",
       "      <td>0.954483</td>\n",
       "      <td>0.965977</td>\n",
       "      <td>0.965961</td>\n",
       "      <td>0.951721</td>\n",
       "      <td>0.017580</td>\n",
       "      <td>14</td>\n",
       "    </tr>\n",
       "    <tr>\n",
       "      <th>9</th>\n",
       "      <td>2.919820</td>\n",
       "      <td>0.043213</td>\n",
       "      <td>0.017387</td>\n",
       "      <td>1.964904e-03</td>\n",
       "      <td>logloss</td>\n",
       "      <td>0.5</td>\n",
       "      <td>12</td>\n",
       "      <td>0.6</td>\n",
       "      <td>{'xg__eval_metric': 'logloss', 'xg__gamma': 0....</td>\n",
       "      <td>0.919080</td>\n",
       "      <td>0.954943</td>\n",
       "      <td>0.955402</td>\n",
       "      <td>0.966437</td>\n",
       "      <td>0.965501</td>\n",
       "      <td>0.952273</td>\n",
       "      <td>0.017287</td>\n",
       "      <td>8</td>\n",
       "    </tr>\n",
       "    <tr>\n",
       "      <th>10</th>\n",
       "      <td>3.049789</td>\n",
       "      <td>0.039975</td>\n",
       "      <td>0.013959</td>\n",
       "      <td>3.004001e-03</td>\n",
       "      <td>logloss</td>\n",
       "      <td>0.5</td>\n",
       "      <td>12</td>\n",
       "      <td>0.8</td>\n",
       "      <td>{'xg__eval_metric': 'logloss', 'xg__gamma': 0....</td>\n",
       "      <td>0.919540</td>\n",
       "      <td>0.955402</td>\n",
       "      <td>0.954943</td>\n",
       "      <td>0.967816</td>\n",
       "      <td>0.965041</td>\n",
       "      <td>0.952549</td>\n",
       "      <td>0.017278</td>\n",
       "      <td>7</td>\n",
       "    </tr>\n",
       "    <tr>\n",
       "      <th>11</th>\n",
       "      <td>3.020342</td>\n",
       "      <td>0.145447</td>\n",
       "      <td>0.014951</td>\n",
       "      <td>1.095276e-03</td>\n",
       "      <td>logloss</td>\n",
       "      <td>0.5</td>\n",
       "      <td>12</td>\n",
       "      <td>1</td>\n",
       "      <td>{'xg__eval_metric': 'logloss', 'xg__gamma': 0....</td>\n",
       "      <td>0.919540</td>\n",
       "      <td>0.954483</td>\n",
       "      <td>0.960000</td>\n",
       "      <td>0.964598</td>\n",
       "      <td>0.967341</td>\n",
       "      <td>0.953192</td>\n",
       "      <td>0.017382</td>\n",
       "      <td>2</td>\n",
       "    </tr>\n",
       "    <tr>\n",
       "      <th>12</th>\n",
       "      <td>3.160527</td>\n",
       "      <td>0.053391</td>\n",
       "      <td>0.015818</td>\n",
       "      <td>1.595425e-04</td>\n",
       "      <td>logloss</td>\n",
       "      <td>0.5</td>\n",
       "      <td>15</td>\n",
       "      <td>0.6</td>\n",
       "      <td>{'xg__eval_metric': 'logloss', 'xg__gamma': 0....</td>\n",
       "      <td>0.917241</td>\n",
       "      <td>0.958161</td>\n",
       "      <td>0.953103</td>\n",
       "      <td>0.963218</td>\n",
       "      <td>0.963661</td>\n",
       "      <td>0.951077</td>\n",
       "      <td>0.017349</td>\n",
       "      <td>22</td>\n",
       "    </tr>\n",
       "    <tr>\n",
       "      <th>13</th>\n",
       "      <td>3.431990</td>\n",
       "      <td>0.070649</td>\n",
       "      <td>0.015830</td>\n",
       "      <td>3.909226e-04</td>\n",
       "      <td>logloss</td>\n",
       "      <td>0.5</td>\n",
       "      <td>15</td>\n",
       "      <td>0.8</td>\n",
       "      <td>{'xg__eval_metric': 'logloss', 'xg__gamma': 0....</td>\n",
       "      <td>0.917241</td>\n",
       "      <td>0.954483</td>\n",
       "      <td>0.958621</td>\n",
       "      <td>0.964598</td>\n",
       "      <td>0.968721</td>\n",
       "      <td>0.952733</td>\n",
       "      <td>0.018405</td>\n",
       "      <td>5</td>\n",
       "    </tr>\n",
       "    <tr>\n",
       "      <th>14</th>\n",
       "      <td>4.074259</td>\n",
       "      <td>0.229265</td>\n",
       "      <td>0.015455</td>\n",
       "      <td>1.391763e-03</td>\n",
       "      <td>logloss</td>\n",
       "      <td>0.5</td>\n",
       "      <td>15</td>\n",
       "      <td>1</td>\n",
       "      <td>{'xg__eval_metric': 'logloss', 'xg__gamma': 0....</td>\n",
       "      <td>0.919540</td>\n",
       "      <td>0.954483</td>\n",
       "      <td>0.957701</td>\n",
       "      <td>0.966897</td>\n",
       "      <td>0.965501</td>\n",
       "      <td>0.952824</td>\n",
       "      <td>0.017281</td>\n",
       "      <td>4</td>\n",
       "    </tr>\n",
       "    <tr>\n",
       "      <th>18</th>\n",
       "      <td>1.953892</td>\n",
       "      <td>0.018635</td>\n",
       "      <td>0.015674</td>\n",
       "      <td>7.479351e-04</td>\n",
       "      <td>logloss</td>\n",
       "      <td>1</td>\n",
       "      <td>6</td>\n",
       "      <td>0.6</td>\n",
       "      <td>{'xg__eval_metric': 'logloss', 'xg__gamma': 1,...</td>\n",
       "      <td>0.922299</td>\n",
       "      <td>0.949425</td>\n",
       "      <td>0.949885</td>\n",
       "      <td>0.964138</td>\n",
       "      <td>0.960442</td>\n",
       "      <td>0.949238</td>\n",
       "      <td>0.014654</td>\n",
       "      <td>43</td>\n",
       "    </tr>\n",
       "    <tr>\n",
       "      <th>19</th>\n",
       "      <td>1.997942</td>\n",
       "      <td>0.044672</td>\n",
       "      <td>0.015747</td>\n",
       "      <td>7.459452e-04</td>\n",
       "      <td>logloss</td>\n",
       "      <td>1</td>\n",
       "      <td>6</td>\n",
       "      <td>0.8</td>\n",
       "      <td>{'xg__eval_metric': 'logloss', 'xg__gamma': 1,...</td>\n",
       "      <td>0.921839</td>\n",
       "      <td>0.950345</td>\n",
       "      <td>0.954483</td>\n",
       "      <td>0.961379</td>\n",
       "      <td>0.964581</td>\n",
       "      <td>0.950525</td>\n",
       "      <td>0.015192</td>\n",
       "      <td>29</td>\n",
       "    </tr>\n",
       "    <tr>\n",
       "      <th>20</th>\n",
       "      <td>1.914835</td>\n",
       "      <td>0.048699</td>\n",
       "      <td>0.015947</td>\n",
       "      <td>8.911106e-04</td>\n",
       "      <td>logloss</td>\n",
       "      <td>1</td>\n",
       "      <td>6</td>\n",
       "      <td>1</td>\n",
       "      <td>{'xg__eval_metric': 'logloss', 'xg__gamma': 1,...</td>\n",
       "      <td>0.913563</td>\n",
       "      <td>0.954483</td>\n",
       "      <td>0.952184</td>\n",
       "      <td>0.960000</td>\n",
       "      <td>0.964121</td>\n",
       "      <td>0.948870</td>\n",
       "      <td>0.018141</td>\n",
       "      <td>46</td>\n",
       "    </tr>\n",
       "    <tr>\n",
       "      <th>21</th>\n",
       "      <td>3.627296</td>\n",
       "      <td>0.070898</td>\n",
       "      <td>0.016884</td>\n",
       "      <td>6.016361e-03</td>\n",
       "      <td>logloss</td>\n",
       "      <td>1</td>\n",
       "      <td>10</td>\n",
       "      <td>0.6</td>\n",
       "      <td>{'xg__eval_metric': 'logloss', 'xg__gamma': 1,...</td>\n",
       "      <td>0.919540</td>\n",
       "      <td>0.952644</td>\n",
       "      <td>0.952644</td>\n",
       "      <td>0.965517</td>\n",
       "      <td>0.965501</td>\n",
       "      <td>0.951169</td>\n",
       "      <td>0.016829</td>\n",
       "      <td>20</td>\n",
       "    </tr>\n",
       "    <tr>\n",
       "      <th>22</th>\n",
       "      <td>3.790428</td>\n",
       "      <td>0.092877</td>\n",
       "      <td>0.017412</td>\n",
       "      <td>1.749603e-03</td>\n",
       "      <td>logloss</td>\n",
       "      <td>1</td>\n",
       "      <td>10</td>\n",
       "      <td>0.8</td>\n",
       "      <td>{'xg__eval_metric': 'logloss', 'xg__gamma': 1,...</td>\n",
       "      <td>0.916322</td>\n",
       "      <td>0.955402</td>\n",
       "      <td>0.955862</td>\n",
       "      <td>0.963218</td>\n",
       "      <td>0.966421</td>\n",
       "      <td>0.951445</td>\n",
       "      <td>0.018065</td>\n",
       "      <td>16</td>\n",
       "    </tr>\n",
       "    <tr>\n",
       "      <th>23</th>\n",
       "      <td>3.534589</td>\n",
       "      <td>0.143118</td>\n",
       "      <td>0.017075</td>\n",
       "      <td>1.577238e-03</td>\n",
       "      <td>logloss</td>\n",
       "      <td>1</td>\n",
       "      <td>10</td>\n",
       "      <td>1</td>\n",
       "      <td>{'xg__eval_metric': 'logloss', 'xg__gamma': 1,...</td>\n",
       "      <td>0.915402</td>\n",
       "      <td>0.952184</td>\n",
       "      <td>0.959080</td>\n",
       "      <td>0.964138</td>\n",
       "      <td>0.966421</td>\n",
       "      <td>0.951445</td>\n",
       "      <td>0.018673</td>\n",
       "      <td>16</td>\n",
       "    </tr>\n",
       "    <tr>\n",
       "      <th>24</th>\n",
       "      <td>4.151908</td>\n",
       "      <td>0.052453</td>\n",
       "      <td>0.019401</td>\n",
       "      <td>2.910995e-03</td>\n",
       "      <td>logloss</td>\n",
       "      <td>1</td>\n",
       "      <td>12</td>\n",
       "      <td>0.6</td>\n",
       "      <td>{'xg__eval_metric': 'logloss', 'xg__gamma': 1,...</td>\n",
       "      <td>0.921839</td>\n",
       "      <td>0.951264</td>\n",
       "      <td>0.955402</td>\n",
       "      <td>0.963678</td>\n",
       "      <td>0.966881</td>\n",
       "      <td>0.951813</td>\n",
       "      <td>0.015997</td>\n",
       "      <td>11</td>\n",
       "    </tr>\n",
       "    <tr>\n",
       "      <th>25</th>\n",
       "      <td>4.458184</td>\n",
       "      <td>0.212178</td>\n",
       "      <td>0.019790</td>\n",
       "      <td>4.945257e-03</td>\n",
       "      <td>logloss</td>\n",
       "      <td>1</td>\n",
       "      <td>12</td>\n",
       "      <td>0.8</td>\n",
       "      <td>{'xg__eval_metric': 'logloss', 'xg__gamma': 1,...</td>\n",
       "      <td>0.919080</td>\n",
       "      <td>0.953563</td>\n",
       "      <td>0.953563</td>\n",
       "      <td>0.965057</td>\n",
       "      <td>0.965501</td>\n",
       "      <td>0.951353</td>\n",
       "      <td>0.016966</td>\n",
       "      <td>18</td>\n",
       "    </tr>\n",
       "    <tr>\n",
       "      <th>26</th>\n",
       "      <td>4.417267</td>\n",
       "      <td>0.147583</td>\n",
       "      <td>0.019379</td>\n",
       "      <td>5.313646e-03</td>\n",
       "      <td>logloss</td>\n",
       "      <td>1</td>\n",
       "      <td>12</td>\n",
       "      <td>1</td>\n",
       "      <td>{'xg__eval_metric': 'logloss', 'xg__gamma': 1,...</td>\n",
       "      <td>0.918161</td>\n",
       "      <td>0.950805</td>\n",
       "      <td>0.955862</td>\n",
       "      <td>0.965057</td>\n",
       "      <td>0.967341</td>\n",
       "      <td>0.951445</td>\n",
       "      <td>0.017696</td>\n",
       "      <td>15</td>\n",
       "    </tr>\n",
       "    <tr>\n",
       "      <th>27</th>\n",
       "      <td>4.588313</td>\n",
       "      <td>0.150384</td>\n",
       "      <td>0.016583</td>\n",
       "      <td>1.188872e-03</td>\n",
       "      <td>logloss</td>\n",
       "      <td>1</td>\n",
       "      <td>15</td>\n",
       "      <td>0.6</td>\n",
       "      <td>{'xg__eval_metric': 'logloss', 'xg__gamma': 1,...</td>\n",
       "      <td>0.920460</td>\n",
       "      <td>0.950805</td>\n",
       "      <td>0.954483</td>\n",
       "      <td>0.963678</td>\n",
       "      <td>0.965501</td>\n",
       "      <td>0.950985</td>\n",
       "      <td>0.016223</td>\n",
       "      <td>24</td>\n",
       "    </tr>\n",
       "    <tr>\n",
       "      <th>28</th>\n",
       "      <td>4.733949</td>\n",
       "      <td>0.083950</td>\n",
       "      <td>0.025128</td>\n",
       "      <td>7.760417e-03</td>\n",
       "      <td>logloss</td>\n",
       "      <td>1</td>\n",
       "      <td>15</td>\n",
       "      <td>0.8</td>\n",
       "      <td>{'xg__eval_metric': 'logloss', 'xg__gamma': 1,...</td>\n",
       "      <td>0.917241</td>\n",
       "      <td>0.954943</td>\n",
       "      <td>0.959540</td>\n",
       "      <td>0.964138</td>\n",
       "      <td>0.965041</td>\n",
       "      <td>0.952181</td>\n",
       "      <td>0.017838</td>\n",
       "      <td>9</td>\n",
       "    </tr>\n",
       "    <tr>\n",
       "      <th>29</th>\n",
       "      <td>5.724552</td>\n",
       "      <td>0.242007</td>\n",
       "      <td>0.018747</td>\n",
       "      <td>6.248927e-03</td>\n",
       "      <td>logloss</td>\n",
       "      <td>1</td>\n",
       "      <td>15</td>\n",
       "      <td>1</td>\n",
       "      <td>{'xg__eval_metric': 'logloss', 'xg__gamma': 1,...</td>\n",
       "      <td>0.911724</td>\n",
       "      <td>0.954943</td>\n",
       "      <td>0.955862</td>\n",
       "      <td>0.967356</td>\n",
       "      <td>0.964581</td>\n",
       "      <td>0.950893</td>\n",
       "      <td>0.020168</td>\n",
       "      <td>27</td>\n",
       "    </tr>\n",
       "    <tr>\n",
       "      <th>33</th>\n",
       "      <td>2.329524</td>\n",
       "      <td>0.026155</td>\n",
       "      <td>0.019913</td>\n",
       "      <td>6.618408e-03</td>\n",
       "      <td>logloss</td>\n",
       "      <td>1.5</td>\n",
       "      <td>6</td>\n",
       "      <td>0.6</td>\n",
       "      <td>{'xg__eval_metric': 'logloss', 'xg__gamma': 1....</td>\n",
       "      <td>0.919540</td>\n",
       "      <td>0.952184</td>\n",
       "      <td>0.954483</td>\n",
       "      <td>0.963678</td>\n",
       "      <td>0.965041</td>\n",
       "      <td>0.950985</td>\n",
       "      <td>0.016499</td>\n",
       "      <td>25</td>\n",
       "    </tr>\n",
       "    <tr>\n",
       "      <th>34</th>\n",
       "      <td>2.297885</td>\n",
       "      <td>0.021999</td>\n",
       "      <td>0.015798</td>\n",
       "      <td>3.408168e-04</td>\n",
       "      <td>logloss</td>\n",
       "      <td>1.5</td>\n",
       "      <td>6</td>\n",
       "      <td>0.8</td>\n",
       "      <td>{'xg__eval_metric': 'logloss', 'xg__gamma': 1....</td>\n",
       "      <td>0.916322</td>\n",
       "      <td>0.950805</td>\n",
       "      <td>0.956322</td>\n",
       "      <td>0.966897</td>\n",
       "      <td>0.964581</td>\n",
       "      <td>0.950985</td>\n",
       "      <td>0.018265</td>\n",
       "      <td>26</td>\n",
       "    </tr>\n",
       "    <tr>\n",
       "      <th>35</th>\n",
       "      <td>2.069441</td>\n",
       "      <td>0.074519</td>\n",
       "      <td>0.018982</td>\n",
       "      <td>6.152144e-03</td>\n",
       "      <td>logloss</td>\n",
       "      <td>1.5</td>\n",
       "      <td>6</td>\n",
       "      <td>1</td>\n",
       "      <td>{'xg__eval_metric': 'logloss', 'xg__gamma': 1....</td>\n",
       "      <td>0.916782</td>\n",
       "      <td>0.950345</td>\n",
       "      <td>0.948966</td>\n",
       "      <td>0.965977</td>\n",
       "      <td>0.964581</td>\n",
       "      <td>0.949330</td>\n",
       "      <td>0.017722</td>\n",
       "      <td>42</td>\n",
       "    </tr>\n",
       "    <tr>\n",
       "      <th>36</th>\n",
       "      <td>3.800855</td>\n",
       "      <td>0.030680</td>\n",
       "      <td>0.018749</td>\n",
       "      <td>6.248594e-03</td>\n",
       "      <td>logloss</td>\n",
       "      <td>1.5</td>\n",
       "      <td>10</td>\n",
       "      <td>0.6</td>\n",
       "      <td>{'xg__eval_metric': 'logloss', 'xg__gamma': 1....</td>\n",
       "      <td>0.913103</td>\n",
       "      <td>0.952644</td>\n",
       "      <td>0.954943</td>\n",
       "      <td>0.963218</td>\n",
       "      <td>0.963661</td>\n",
       "      <td>0.949514</td>\n",
       "      <td>0.018724</td>\n",
       "      <td>37</td>\n",
       "    </tr>\n",
       "    <tr>\n",
       "      <th>37</th>\n",
       "      <td>3.877535</td>\n",
       "      <td>0.039457</td>\n",
       "      <td>0.015026</td>\n",
       "      <td>1.202873e-03</td>\n",
       "      <td>logloss</td>\n",
       "      <td>1.5</td>\n",
       "      <td>10</td>\n",
       "      <td>0.8</td>\n",
       "      <td>{'xg__eval_metric': 'logloss', 'xg__gamma': 1....</td>\n",
       "      <td>0.920000</td>\n",
       "      <td>0.953563</td>\n",
       "      <td>0.957701</td>\n",
       "      <td>0.967356</td>\n",
       "      <td>0.960442</td>\n",
       "      <td>0.951812</td>\n",
       "      <td>0.016528</td>\n",
       "      <td>12</td>\n",
       "    </tr>\n",
       "    <tr>\n",
       "      <th>38</th>\n",
       "      <td>3.424075</td>\n",
       "      <td>0.248052</td>\n",
       "      <td>0.018748</td>\n",
       "      <td>6.248212e-03</td>\n",
       "      <td>logloss</td>\n",
       "      <td>1.5</td>\n",
       "      <td>10</td>\n",
       "      <td>1</td>\n",
       "      <td>{'xg__eval_metric': 'logloss', 'xg__gamma': 1....</td>\n",
       "      <td>0.917241</td>\n",
       "      <td>0.952644</td>\n",
       "      <td>0.956782</td>\n",
       "      <td>0.963678</td>\n",
       "      <td>0.968261</td>\n",
       "      <td>0.951721</td>\n",
       "      <td>0.018066</td>\n",
       "      <td>13</td>\n",
       "    </tr>\n",
       "    <tr>\n",
       "      <th>39</th>\n",
       "      <td>4.246035</td>\n",
       "      <td>0.016279</td>\n",
       "      <td>0.018748</td>\n",
       "      <td>6.248832e-03</td>\n",
       "      <td>logloss</td>\n",
       "      <td>1.5</td>\n",
       "      <td>12</td>\n",
       "      <td>0.6</td>\n",
       "      <td>{'xg__eval_metric': 'logloss', 'xg__gamma': 1....</td>\n",
       "      <td>0.918161</td>\n",
       "      <td>0.951264</td>\n",
       "      <td>0.953563</td>\n",
       "      <td>0.968276</td>\n",
       "      <td>0.967801</td>\n",
       "      <td>0.951813</td>\n",
       "      <td>0.018234</td>\n",
       "      <td>10</td>\n",
       "    </tr>\n",
       "    <tr>\n",
       "      <th>40</th>\n",
       "      <td>4.406791</td>\n",
       "      <td>0.056583</td>\n",
       "      <td>0.018748</td>\n",
       "      <td>6.249237e-03</td>\n",
       "      <td>logloss</td>\n",
       "      <td>1.5</td>\n",
       "      <td>12</td>\n",
       "      <td>0.8</td>\n",
       "      <td>{'xg__eval_metric': 'logloss', 'xg__gamma': 1....</td>\n",
       "      <td>0.915402</td>\n",
       "      <td>0.951724</td>\n",
       "      <td>0.954483</td>\n",
       "      <td>0.963678</td>\n",
       "      <td>0.961822</td>\n",
       "      <td>0.949422</td>\n",
       "      <td>0.017580</td>\n",
       "      <td>41</td>\n",
       "    </tr>\n",
       "    <tr>\n",
       "      <th>41</th>\n",
       "      <td>4.241096</td>\n",
       "      <td>0.252564</td>\n",
       "      <td>0.016155</td>\n",
       "      <td>6.537807e-04</td>\n",
       "      <td>logloss</td>\n",
       "      <td>1.5</td>\n",
       "      <td>12</td>\n",
       "      <td>1</td>\n",
       "      <td>{'xg__eval_metric': 'logloss', 'xg__gamma': 1....</td>\n",
       "      <td>0.914483</td>\n",
       "      <td>0.949885</td>\n",
       "      <td>0.954483</td>\n",
       "      <td>0.965057</td>\n",
       "      <td>0.963661</td>\n",
       "      <td>0.949514</td>\n",
       "      <td>0.018405</td>\n",
       "      <td>37</td>\n",
       "    </tr>\n",
       "    <tr>\n",
       "      <th>42</th>\n",
       "      <td>4.636674</td>\n",
       "      <td>0.027439</td>\n",
       "      <td>0.022140</td>\n",
       "      <td>7.454121e-03</td>\n",
       "      <td>logloss</td>\n",
       "      <td>1.5</td>\n",
       "      <td>15</td>\n",
       "      <td>0.6</td>\n",
       "      <td>{'xg__eval_metric': 'logloss', 'xg__gamma': 1....</td>\n",
       "      <td>0.915402</td>\n",
       "      <td>0.954023</td>\n",
       "      <td>0.957241</td>\n",
       "      <td>0.962299</td>\n",
       "      <td>0.964581</td>\n",
       "      <td>0.950709</td>\n",
       "      <td>0.018039</td>\n",
       "      <td>28</td>\n",
       "    </tr>\n",
       "    <tr>\n",
       "      <th>43</th>\n",
       "      <td>5.047930</td>\n",
       "      <td>0.136136</td>\n",
       "      <td>0.018749</td>\n",
       "      <td>6.248666e-03</td>\n",
       "      <td>logloss</td>\n",
       "      <td>1.5</td>\n",
       "      <td>15</td>\n",
       "      <td>0.8</td>\n",
       "      <td>{'xg__eval_metric': 'logloss', 'xg__gamma': 1....</td>\n",
       "      <td>0.918161</td>\n",
       "      <td>0.948506</td>\n",
       "      <td>0.954943</td>\n",
       "      <td>0.963678</td>\n",
       "      <td>0.963201</td>\n",
       "      <td>0.949698</td>\n",
       "      <td>0.016741</td>\n",
       "      <td>35</td>\n",
       "    </tr>\n",
       "    <tr>\n",
       "      <th>44</th>\n",
       "      <td>5.697667</td>\n",
       "      <td>0.546688</td>\n",
       "      <td>0.025152</td>\n",
       "      <td>7.784375e-03</td>\n",
       "      <td>logloss</td>\n",
       "      <td>1.5</td>\n",
       "      <td>15</td>\n",
       "      <td>1</td>\n",
       "      <td>{'xg__eval_metric': 'logloss', 'xg__gamma': 1....</td>\n",
       "      <td>0.913103</td>\n",
       "      <td>0.954483</td>\n",
       "      <td>0.955402</td>\n",
       "      <td>0.966897</td>\n",
       "      <td>0.966421</td>\n",
       "      <td>0.951261</td>\n",
       "      <td>0.019788</td>\n",
       "      <td>19</td>\n",
       "    </tr>\n",
       "    <tr>\n",
       "      <th>48</th>\n",
       "      <td>2.503471</td>\n",
       "      <td>0.021050</td>\n",
       "      <td>0.018865</td>\n",
       "      <td>6.195565e-03</td>\n",
       "      <td>logloss</td>\n",
       "      <td>2</td>\n",
       "      <td>6</td>\n",
       "      <td>0.6</td>\n",
       "      <td>{'xg__eval_metric': 'logloss', 'xg__gamma': 2,...</td>\n",
       "      <td>0.916322</td>\n",
       "      <td>0.950805</td>\n",
       "      <td>0.951264</td>\n",
       "      <td>0.964598</td>\n",
       "      <td>0.959522</td>\n",
       "      <td>0.948502</td>\n",
       "      <td>0.016906</td>\n",
       "      <td>48</td>\n",
       "    </tr>\n",
       "    <tr>\n",
       "      <th>49</th>\n",
       "      <td>2.468769</td>\n",
       "      <td>0.012379</td>\n",
       "      <td>0.022072</td>\n",
       "      <td>7.503302e-03</td>\n",
       "      <td>logloss</td>\n",
       "      <td>2</td>\n",
       "      <td>6</td>\n",
       "      <td>0.8</td>\n",
       "      <td>{'xg__eval_metric': 'logloss', 'xg__gamma': 2,...</td>\n",
       "      <td>0.916782</td>\n",
       "      <td>0.951724</td>\n",
       "      <td>0.954483</td>\n",
       "      <td>0.962299</td>\n",
       "      <td>0.962282</td>\n",
       "      <td>0.949514</td>\n",
       "      <td>0.016896</td>\n",
       "      <td>39</td>\n",
       "    </tr>\n",
       "    <tr>\n",
       "      <th>51</th>\n",
       "      <td>4.024052</td>\n",
       "      <td>0.032890</td>\n",
       "      <td>0.021873</td>\n",
       "      <td>7.651483e-03</td>\n",
       "      <td>logloss</td>\n",
       "      <td>2</td>\n",
       "      <td>10</td>\n",
       "      <td>0.6</td>\n",
       "      <td>{'xg__eval_metric': 'logloss', 'xg__gamma': 2,...</td>\n",
       "      <td>0.921839</td>\n",
       "      <td>0.954943</td>\n",
       "      <td>0.950805</td>\n",
       "      <td>0.962759</td>\n",
       "      <td>0.961362</td>\n",
       "      <td>0.950341</td>\n",
       "      <td>0.014896</td>\n",
       "      <td>30</td>\n",
       "    </tr>\n",
       "    <tr>\n",
       "      <th>52</th>\n",
       "      <td>4.127230</td>\n",
       "      <td>0.081978</td>\n",
       "      <td>0.018952</td>\n",
       "      <td>6.159842e-03</td>\n",
       "      <td>logloss</td>\n",
       "      <td>2</td>\n",
       "      <td>10</td>\n",
       "      <td>0.8</td>\n",
       "      <td>{'xg__eval_metric': 'logloss', 'xg__gamma': 2,...</td>\n",
       "      <td>0.911724</td>\n",
       "      <td>0.950805</td>\n",
       "      <td>0.957241</td>\n",
       "      <td>0.961839</td>\n",
       "      <td>0.961362</td>\n",
       "      <td>0.948594</td>\n",
       "      <td>0.018855</td>\n",
       "      <td>47</td>\n",
       "    </tr>\n",
       "    <tr>\n",
       "      <th>53</th>\n",
       "      <td>3.639589</td>\n",
       "      <td>0.255982</td>\n",
       "      <td>0.015623</td>\n",
       "      <td>5.761645e-07</td>\n",
       "      <td>logloss</td>\n",
       "      <td>2</td>\n",
       "      <td>10</td>\n",
       "      <td>1</td>\n",
       "      <td>{'xg__eval_metric': 'logloss', 'xg__gamma': 2,...</td>\n",
       "      <td>0.913563</td>\n",
       "      <td>0.948046</td>\n",
       "      <td>0.956782</td>\n",
       "      <td>0.964138</td>\n",
       "      <td>0.962741</td>\n",
       "      <td>0.949054</td>\n",
       "      <td>0.018629</td>\n",
       "      <td>45</td>\n",
       "    </tr>\n",
       "    <tr>\n",
       "      <th>54</th>\n",
       "      <td>4.649246</td>\n",
       "      <td>0.028723</td>\n",
       "      <td>0.018748</td>\n",
       "      <td>6.248999e-03</td>\n",
       "      <td>logloss</td>\n",
       "      <td>2</td>\n",
       "      <td>12</td>\n",
       "      <td>0.6</td>\n",
       "      <td>{'xg__eval_metric': 'logloss', 'xg__gamma': 2,...</td>\n",
       "      <td>0.912644</td>\n",
       "      <td>0.952644</td>\n",
       "      <td>0.952184</td>\n",
       "      <td>0.965057</td>\n",
       "      <td>0.963201</td>\n",
       "      <td>0.949146</td>\n",
       "      <td>0.018998</td>\n",
       "      <td>44</td>\n",
       "    </tr>\n",
       "    <tr>\n",
       "      <th>55</th>\n",
       "      <td>4.817580</td>\n",
       "      <td>0.069170</td>\n",
       "      <td>0.018747</td>\n",
       "      <td>6.249166e-03</td>\n",
       "      <td>logloss</td>\n",
       "      <td>2</td>\n",
       "      <td>12</td>\n",
       "      <td>0.8</td>\n",
       "      <td>{'xg__eval_metric': 'logloss', 'xg__gamma': 2,...</td>\n",
       "      <td>0.912184</td>\n",
       "      <td>0.949885</td>\n",
       "      <td>0.956782</td>\n",
       "      <td>0.965517</td>\n",
       "      <td>0.964581</td>\n",
       "      <td>0.949790</td>\n",
       "      <td>0.019643</td>\n",
       "      <td>34</td>\n",
       "    </tr>\n",
       "    <tr>\n",
       "      <th>56</th>\n",
       "      <td>4.736744</td>\n",
       "      <td>0.277620</td>\n",
       "      <td>0.015623</td>\n",
       "      <td>5.722046e-07</td>\n",
       "      <td>logloss</td>\n",
       "      <td>2</td>\n",
       "      <td>12</td>\n",
       "      <td>1</td>\n",
       "      <td>{'xg__eval_metric': 'logloss', 'xg__gamma': 2,...</td>\n",
       "      <td>0.913103</td>\n",
       "      <td>0.953563</td>\n",
       "      <td>0.954943</td>\n",
       "      <td>0.963678</td>\n",
       "      <td>0.962741</td>\n",
       "      <td>0.949606</td>\n",
       "      <td>0.018693</td>\n",
       "      <td>36</td>\n",
       "    </tr>\n",
       "    <tr>\n",
       "      <th>57</th>\n",
       "      <td>5.292169</td>\n",
       "      <td>0.061579</td>\n",
       "      <td>0.020889</td>\n",
       "      <td>8.503800e-03</td>\n",
       "      <td>logloss</td>\n",
       "      <td>2</td>\n",
       "      <td>15</td>\n",
       "      <td>0.6</td>\n",
       "      <td>{'xg__eval_metric': 'logloss', 'xg__gamma': 2,...</td>\n",
       "      <td>0.918161</td>\n",
       "      <td>0.954483</td>\n",
       "      <td>0.958621</td>\n",
       "      <td>0.965057</td>\n",
       "      <td>0.968261</td>\n",
       "      <td>0.952917</td>\n",
       "      <td>0.018032</td>\n",
       "      <td>3</td>\n",
       "    </tr>\n",
       "    <tr>\n",
       "      <th>58</th>\n",
       "      <td>5.544146</td>\n",
       "      <td>0.104946</td>\n",
       "      <td>0.018748</td>\n",
       "      <td>6.249356e-03</td>\n",
       "      <td>logloss</td>\n",
       "      <td>2</td>\n",
       "      <td>15</td>\n",
       "      <td>0.8</td>\n",
       "      <td>{'xg__eval_metric': 'logloss', 'xg__gamma': 2,...</td>\n",
       "      <td>0.917241</td>\n",
       "      <td>0.952184</td>\n",
       "      <td>0.958161</td>\n",
       "      <td>0.964138</td>\n",
       "      <td>0.963661</td>\n",
       "      <td>0.951077</td>\n",
       "      <td>0.017465</td>\n",
       "      <td>23</td>\n",
       "    </tr>\n",
       "    <tr>\n",
       "      <th>59</th>\n",
       "      <td>4.339943</td>\n",
       "      <td>0.450138</td>\n",
       "      <td>0.016415</td>\n",
       "      <td>7.839810e-03</td>\n",
       "      <td>logloss</td>\n",
       "      <td>2</td>\n",
       "      <td>15</td>\n",
       "      <td>1</td>\n",
       "      <td>{'xg__eval_metric': 'logloss', 'xg__gamma': 2,...</td>\n",
       "      <td>0.913563</td>\n",
       "      <td>0.953103</td>\n",
       "      <td>0.954483</td>\n",
       "      <td>0.961379</td>\n",
       "      <td>0.966881</td>\n",
       "      <td>0.949882</td>\n",
       "      <td>0.018824</td>\n",
       "      <td>33</td>\n",
       "    </tr>\n",
       "  </tbody>\n",
       "</table>\n",
       "</div>"
      ],
      "text/plain": [
       "    mean_fit_time  std_fit_time  mean_score_time  std_score_time  \\\n",
       "1        1.115363      0.025443         0.014474    1.162084e-03   \n",
       "3        1.631437      0.039235         0.013953    7.642643e-03   \n",
       "4        1.618551      0.031623         0.012698    6.359611e-03   \n",
       "5        1.451110      0.031701         0.012597    6.051493e-03   \n",
       "6        2.525307      0.024551         0.021074    1.339930e-02   \n",
       "7        2.633268      0.079704         0.016157    7.076044e-04   \n",
       "8        2.501102      0.065878         0.015354    7.114902e-04   \n",
       "9        2.919820      0.043213         0.017387    1.964904e-03   \n",
       "10       3.049789      0.039975         0.013959    3.004001e-03   \n",
       "11       3.020342      0.145447         0.014951    1.095276e-03   \n",
       "12       3.160527      0.053391         0.015818    1.595425e-04   \n",
       "13       3.431990      0.070649         0.015830    3.909226e-04   \n",
       "14       4.074259      0.229265         0.015455    1.391763e-03   \n",
       "18       1.953892      0.018635         0.015674    7.479351e-04   \n",
       "19       1.997942      0.044672         0.015747    7.459452e-04   \n",
       "20       1.914835      0.048699         0.015947    8.911106e-04   \n",
       "21       3.627296      0.070898         0.016884    6.016361e-03   \n",
       "22       3.790428      0.092877         0.017412    1.749603e-03   \n",
       "23       3.534589      0.143118         0.017075    1.577238e-03   \n",
       "24       4.151908      0.052453         0.019401    2.910995e-03   \n",
       "25       4.458184      0.212178         0.019790    4.945257e-03   \n",
       "26       4.417267      0.147583         0.019379    5.313646e-03   \n",
       "27       4.588313      0.150384         0.016583    1.188872e-03   \n",
       "28       4.733949      0.083950         0.025128    7.760417e-03   \n",
       "29       5.724552      0.242007         0.018747    6.248927e-03   \n",
       "33       2.329524      0.026155         0.019913    6.618408e-03   \n",
       "34       2.297885      0.021999         0.015798    3.408168e-04   \n",
       "35       2.069441      0.074519         0.018982    6.152144e-03   \n",
       "36       3.800855      0.030680         0.018749    6.248594e-03   \n",
       "37       3.877535      0.039457         0.015026    1.202873e-03   \n",
       "38       3.424075      0.248052         0.018748    6.248212e-03   \n",
       "39       4.246035      0.016279         0.018748    6.248832e-03   \n",
       "40       4.406791      0.056583         0.018748    6.249237e-03   \n",
       "41       4.241096      0.252564         0.016155    6.537807e-04   \n",
       "42       4.636674      0.027439         0.022140    7.454121e-03   \n",
       "43       5.047930      0.136136         0.018749    6.248666e-03   \n",
       "44       5.697667      0.546688         0.025152    7.784375e-03   \n",
       "48       2.503471      0.021050         0.018865    6.195565e-03   \n",
       "49       2.468769      0.012379         0.022072    7.503302e-03   \n",
       "51       4.024052      0.032890         0.021873    7.651483e-03   \n",
       "52       4.127230      0.081978         0.018952    6.159842e-03   \n",
       "53       3.639589      0.255982         0.015623    5.761645e-07   \n",
       "54       4.649246      0.028723         0.018748    6.248999e-03   \n",
       "55       4.817580      0.069170         0.018747    6.249166e-03   \n",
       "56       4.736744      0.277620         0.015623    5.722046e-07   \n",
       "57       5.292169      0.061579         0.020889    8.503800e-03   \n",
       "58       5.544146      0.104946         0.018748    6.249356e-03   \n",
       "59       4.339943      0.450138         0.016415    7.839810e-03   \n",
       "\n",
       "   param_xg__eval_metric param_xg__gamma param_xg__max_depth  \\\n",
       "1                logloss             0.5                   4   \n",
       "3                logloss             0.5                   6   \n",
       "4                logloss             0.5                   6   \n",
       "5                logloss             0.5                   6   \n",
       "6                logloss             0.5                  10   \n",
       "7                logloss             0.5                  10   \n",
       "8                logloss             0.5                  10   \n",
       "9                logloss             0.5                  12   \n",
       "10               logloss             0.5                  12   \n",
       "11               logloss             0.5                  12   \n",
       "12               logloss             0.5                  15   \n",
       "13               logloss             0.5                  15   \n",
       "14               logloss             0.5                  15   \n",
       "18               logloss               1                   6   \n",
       "19               logloss               1                   6   \n",
       "20               logloss               1                   6   \n",
       "21               logloss               1                  10   \n",
       "22               logloss               1                  10   \n",
       "23               logloss               1                  10   \n",
       "24               logloss               1                  12   \n",
       "25               logloss               1                  12   \n",
       "26               logloss               1                  12   \n",
       "27               logloss               1                  15   \n",
       "28               logloss               1                  15   \n",
       "29               logloss               1                  15   \n",
       "33               logloss             1.5                   6   \n",
       "34               logloss             1.5                   6   \n",
       "35               logloss             1.5                   6   \n",
       "36               logloss             1.5                  10   \n",
       "37               logloss             1.5                  10   \n",
       "38               logloss             1.5                  10   \n",
       "39               logloss             1.5                  12   \n",
       "40               logloss             1.5                  12   \n",
       "41               logloss             1.5                  12   \n",
       "42               logloss             1.5                  15   \n",
       "43               logloss             1.5                  15   \n",
       "44               logloss             1.5                  15   \n",
       "48               logloss               2                   6   \n",
       "49               logloss               2                   6   \n",
       "51               logloss               2                  10   \n",
       "52               logloss               2                  10   \n",
       "53               logloss               2                  10   \n",
       "54               logloss               2                  12   \n",
       "55               logloss               2                  12   \n",
       "56               logloss               2                  12   \n",
       "57               logloss               2                  15   \n",
       "58               logloss               2                  15   \n",
       "59               logloss               2                  15   \n",
       "\n",
       "   param_xg__subsample                                             params  \\\n",
       "1                  0.8  {'xg__eval_metric': 'logloss', 'xg__gamma': 0....   \n",
       "3                  0.6  {'xg__eval_metric': 'logloss', 'xg__gamma': 0....   \n",
       "4                  0.8  {'xg__eval_metric': 'logloss', 'xg__gamma': 0....   \n",
       "5                    1  {'xg__eval_metric': 'logloss', 'xg__gamma': 0....   \n",
       "6                  0.6  {'xg__eval_metric': 'logloss', 'xg__gamma': 0....   \n",
       "7                  0.8  {'xg__eval_metric': 'logloss', 'xg__gamma': 0....   \n",
       "8                    1  {'xg__eval_metric': 'logloss', 'xg__gamma': 0....   \n",
       "9                  0.6  {'xg__eval_metric': 'logloss', 'xg__gamma': 0....   \n",
       "10                 0.8  {'xg__eval_metric': 'logloss', 'xg__gamma': 0....   \n",
       "11                   1  {'xg__eval_metric': 'logloss', 'xg__gamma': 0....   \n",
       "12                 0.6  {'xg__eval_metric': 'logloss', 'xg__gamma': 0....   \n",
       "13                 0.8  {'xg__eval_metric': 'logloss', 'xg__gamma': 0....   \n",
       "14                   1  {'xg__eval_metric': 'logloss', 'xg__gamma': 0....   \n",
       "18                 0.6  {'xg__eval_metric': 'logloss', 'xg__gamma': 1,...   \n",
       "19                 0.8  {'xg__eval_metric': 'logloss', 'xg__gamma': 1,...   \n",
       "20                   1  {'xg__eval_metric': 'logloss', 'xg__gamma': 1,...   \n",
       "21                 0.6  {'xg__eval_metric': 'logloss', 'xg__gamma': 1,...   \n",
       "22                 0.8  {'xg__eval_metric': 'logloss', 'xg__gamma': 1,...   \n",
       "23                   1  {'xg__eval_metric': 'logloss', 'xg__gamma': 1,...   \n",
       "24                 0.6  {'xg__eval_metric': 'logloss', 'xg__gamma': 1,...   \n",
       "25                 0.8  {'xg__eval_metric': 'logloss', 'xg__gamma': 1,...   \n",
       "26                   1  {'xg__eval_metric': 'logloss', 'xg__gamma': 1,...   \n",
       "27                 0.6  {'xg__eval_metric': 'logloss', 'xg__gamma': 1,...   \n",
       "28                 0.8  {'xg__eval_metric': 'logloss', 'xg__gamma': 1,...   \n",
       "29                   1  {'xg__eval_metric': 'logloss', 'xg__gamma': 1,...   \n",
       "33                 0.6  {'xg__eval_metric': 'logloss', 'xg__gamma': 1....   \n",
       "34                 0.8  {'xg__eval_metric': 'logloss', 'xg__gamma': 1....   \n",
       "35                   1  {'xg__eval_metric': 'logloss', 'xg__gamma': 1....   \n",
       "36                 0.6  {'xg__eval_metric': 'logloss', 'xg__gamma': 1....   \n",
       "37                 0.8  {'xg__eval_metric': 'logloss', 'xg__gamma': 1....   \n",
       "38                   1  {'xg__eval_metric': 'logloss', 'xg__gamma': 1....   \n",
       "39                 0.6  {'xg__eval_metric': 'logloss', 'xg__gamma': 1....   \n",
       "40                 0.8  {'xg__eval_metric': 'logloss', 'xg__gamma': 1....   \n",
       "41                   1  {'xg__eval_metric': 'logloss', 'xg__gamma': 1....   \n",
       "42                 0.6  {'xg__eval_metric': 'logloss', 'xg__gamma': 1....   \n",
       "43                 0.8  {'xg__eval_metric': 'logloss', 'xg__gamma': 1....   \n",
       "44                   1  {'xg__eval_metric': 'logloss', 'xg__gamma': 1....   \n",
       "48                 0.6  {'xg__eval_metric': 'logloss', 'xg__gamma': 2,...   \n",
       "49                 0.8  {'xg__eval_metric': 'logloss', 'xg__gamma': 2,...   \n",
       "51                 0.6  {'xg__eval_metric': 'logloss', 'xg__gamma': 2,...   \n",
       "52                 0.8  {'xg__eval_metric': 'logloss', 'xg__gamma': 2,...   \n",
       "53                   1  {'xg__eval_metric': 'logloss', 'xg__gamma': 2,...   \n",
       "54                 0.6  {'xg__eval_metric': 'logloss', 'xg__gamma': 2,...   \n",
       "55                 0.8  {'xg__eval_metric': 'logloss', 'xg__gamma': 2,...   \n",
       "56                   1  {'xg__eval_metric': 'logloss', 'xg__gamma': 2,...   \n",
       "57                 0.6  {'xg__eval_metric': 'logloss', 'xg__gamma': 2,...   \n",
       "58                 0.8  {'xg__eval_metric': 'logloss', 'xg__gamma': 2,...   \n",
       "59                   1  {'xg__eval_metric': 'logloss', 'xg__gamma': 2,...   \n",
       "\n",
       "    split0_test_score  split1_test_score  split2_test_score  \\\n",
       "1            0.916322           0.952644           0.956322   \n",
       "3            0.914023           0.951724           0.954483   \n",
       "4            0.916782           0.955402           0.952644   \n",
       "5            0.917701           0.957241           0.957241   \n",
       "6            0.919080           0.955862           0.953103   \n",
       "7            0.920920           0.953103           0.955402   \n",
       "8            0.918161           0.954023           0.954483   \n",
       "9            0.919080           0.954943           0.955402   \n",
       "10           0.919540           0.955402           0.954943   \n",
       "11           0.919540           0.954483           0.960000   \n",
       "12           0.917241           0.958161           0.953103   \n",
       "13           0.917241           0.954483           0.958621   \n",
       "14           0.919540           0.954483           0.957701   \n",
       "18           0.922299           0.949425           0.949885   \n",
       "19           0.921839           0.950345           0.954483   \n",
       "20           0.913563           0.954483           0.952184   \n",
       "21           0.919540           0.952644           0.952644   \n",
       "22           0.916322           0.955402           0.955862   \n",
       "23           0.915402           0.952184           0.959080   \n",
       "24           0.921839           0.951264           0.955402   \n",
       "25           0.919080           0.953563           0.953563   \n",
       "26           0.918161           0.950805           0.955862   \n",
       "27           0.920460           0.950805           0.954483   \n",
       "28           0.917241           0.954943           0.959540   \n",
       "29           0.911724           0.954943           0.955862   \n",
       "33           0.919540           0.952184           0.954483   \n",
       "34           0.916322           0.950805           0.956322   \n",
       "35           0.916782           0.950345           0.948966   \n",
       "36           0.913103           0.952644           0.954943   \n",
       "37           0.920000           0.953563           0.957701   \n",
       "38           0.917241           0.952644           0.956782   \n",
       "39           0.918161           0.951264           0.953563   \n",
       "40           0.915402           0.951724           0.954483   \n",
       "41           0.914483           0.949885           0.954483   \n",
       "42           0.915402           0.954023           0.957241   \n",
       "43           0.918161           0.948506           0.954943   \n",
       "44           0.913103           0.954483           0.955402   \n",
       "48           0.916322           0.950805           0.951264   \n",
       "49           0.916782           0.951724           0.954483   \n",
       "51           0.921839           0.954943           0.950805   \n",
       "52           0.911724           0.950805           0.957241   \n",
       "53           0.913563           0.948046           0.956782   \n",
       "54           0.912644           0.952644           0.952184   \n",
       "55           0.912184           0.949885           0.956782   \n",
       "56           0.913103           0.953563           0.954943   \n",
       "57           0.918161           0.954483           0.958621   \n",
       "58           0.917241           0.952184           0.958161   \n",
       "59           0.913563           0.953103           0.954483   \n",
       "\n",
       "    split3_test_score  split4_test_score  mean_test_score  std_test_score  \\\n",
       "1            0.960000           0.964581         0.949974        0.017285   \n",
       "3            0.964598           0.962282         0.949422        0.018329   \n",
       "4            0.966437           0.964121         0.951077        0.017908   \n",
       "5            0.963218           0.967801         0.952641        0.017916   \n",
       "6            0.961379           0.961362         0.950157        0.015865   \n",
       "7            0.969655           0.968721         0.953560        0.017652   \n",
       "8            0.965977           0.965961         0.951721        0.017580   \n",
       "9            0.966437           0.965501         0.952273        0.017287   \n",
       "10           0.967816           0.965041         0.952549        0.017278   \n",
       "11           0.964598           0.967341         0.953192        0.017382   \n",
       "12           0.963218           0.963661         0.951077        0.017349   \n",
       "13           0.964598           0.968721         0.952733        0.018405   \n",
       "14           0.966897           0.965501         0.952824        0.017281   \n",
       "18           0.964138           0.960442         0.949238        0.014654   \n",
       "19           0.961379           0.964581         0.950525        0.015192   \n",
       "20           0.960000           0.964121         0.948870        0.018141   \n",
       "21           0.965517           0.965501         0.951169        0.016829   \n",
       "22           0.963218           0.966421         0.951445        0.018065   \n",
       "23           0.964138           0.966421         0.951445        0.018673   \n",
       "24           0.963678           0.966881         0.951813        0.015997   \n",
       "25           0.965057           0.965501         0.951353        0.016966   \n",
       "26           0.965057           0.967341         0.951445        0.017696   \n",
       "27           0.963678           0.965501         0.950985        0.016223   \n",
       "28           0.964138           0.965041         0.952181        0.017838   \n",
       "29           0.967356           0.964581         0.950893        0.020168   \n",
       "33           0.963678           0.965041         0.950985        0.016499   \n",
       "34           0.966897           0.964581         0.950985        0.018265   \n",
       "35           0.965977           0.964581         0.949330        0.017722   \n",
       "36           0.963218           0.963661         0.949514        0.018724   \n",
       "37           0.967356           0.960442         0.951812        0.016528   \n",
       "38           0.963678           0.968261         0.951721        0.018066   \n",
       "39           0.968276           0.967801         0.951813        0.018234   \n",
       "40           0.963678           0.961822         0.949422        0.017580   \n",
       "41           0.965057           0.963661         0.949514        0.018405   \n",
       "42           0.962299           0.964581         0.950709        0.018039   \n",
       "43           0.963678           0.963201         0.949698        0.016741   \n",
       "44           0.966897           0.966421         0.951261        0.019788   \n",
       "48           0.964598           0.959522         0.948502        0.016906   \n",
       "49           0.962299           0.962282         0.949514        0.016896   \n",
       "51           0.962759           0.961362         0.950341        0.014896   \n",
       "52           0.961839           0.961362         0.948594        0.018855   \n",
       "53           0.964138           0.962741         0.949054        0.018629   \n",
       "54           0.965057           0.963201         0.949146        0.018998   \n",
       "55           0.965517           0.964581         0.949790        0.019643   \n",
       "56           0.963678           0.962741         0.949606        0.018693   \n",
       "57           0.965057           0.968261         0.952917        0.018032   \n",
       "58           0.964138           0.963661         0.951077        0.017465   \n",
       "59           0.961379           0.966881         0.949882        0.018824   \n",
       "\n",
       "    rank_test_score  \n",
       "1                32  \n",
       "3                40  \n",
       "4                21  \n",
       "5                 6  \n",
       "6                31  \n",
       "7                 1  \n",
       "8                14  \n",
       "9                 8  \n",
       "10                7  \n",
       "11                2  \n",
       "12               22  \n",
       "13                5  \n",
       "14                4  \n",
       "18               43  \n",
       "19               29  \n",
       "20               46  \n",
       "21               20  \n",
       "22               16  \n",
       "23               16  \n",
       "24               11  \n",
       "25               18  \n",
       "26               15  \n",
       "27               24  \n",
       "28                9  \n",
       "29               27  \n",
       "33               25  \n",
       "34               26  \n",
       "35               42  \n",
       "36               37  \n",
       "37               12  \n",
       "38               13  \n",
       "39               10  \n",
       "40               41  \n",
       "41               37  \n",
       "42               28  \n",
       "43               35  \n",
       "44               19  \n",
       "48               48  \n",
       "49               39  \n",
       "51               30  \n",
       "52               47  \n",
       "53               45  \n",
       "54               44  \n",
       "55               34  \n",
       "56               36  \n",
       "57                3  \n",
       "58               23  \n",
       "59               33  "
      ]
     },
     "execution_count": 67,
     "metadata": {},
     "output_type": "execute_result"
    }
   ],
   "source": [
    "xg_grid_results[xg_grid_results.mean_test_score > one_standard_error]"
   ]
  },
  {
   "cell_type": "code",
   "execution_count": 68,
   "metadata": {},
   "outputs": [],
   "source": [
    "xg_final = xgboost.XGBClassifier(gamma = 0.5,\n",
    "                                     max_depth = 4,\n",
    "                                     subsample = 0.8,\n",
    "                                     eval_metric = 'logloss',\n",
    "                                     use_label_encoder = False)"
   ]
  },
  {
   "cell_type": "code",
   "execution_count": 69,
   "metadata": {},
   "outputs": [],
   "source": [
    "final_clf = Pipeline(steps=[('pre',preprocessor2),\n",
    "                           ('xg',xg_final)])"
   ]
  },
  {
   "cell_type": "code",
   "execution_count": 70,
   "metadata": {},
   "outputs": [
    {
     "data": {
      "text/html": [
       "\n",
       "                    Syncing run <strong><a href=\"https://wandb.ai/apollo101/CreditChurn/runs/ag8sgjop\" target=\"_blank\">polar-eon-29</a></strong> to <a href=\"https://wandb.ai/apollo101/CreditChurn\" target=\"_blank\">Weights & Biases</a> (<a href=\"https://docs.wandb.com/integrations/jupyter.html\" target=\"_blank\">docs</a>).<br/>\n",
       "\n",
       "                "
      ],
      "text/plain": [
       "<IPython.core.display.HTML object>"
      ]
     },
     "metadata": {},
     "output_type": "display_data"
    },
    {
     "name": "stderr",
     "output_type": "stream",
     "text": [
      "wandb: WARNING Calling run.save without any arguments is deprecated.Changes to attributes are automatically persisted.\n"
     ]
    },
    {
     "data": {
      "text/html": [
       "<br/>Waiting for W&B process to finish, PID 7440... <strong style=\"color:green\">(success).</strong>"
      ],
      "text/plain": [
       "<IPython.core.display.HTML object>"
      ]
     },
     "metadata": {},
     "output_type": "display_data"
    },
    {
     "data": {
      "application/vnd.jupyter.widget-view+json": {
       "model_id": "",
       "version_major": 2,
       "version_minor": 0
      },
      "text/plain": [
       "VBox(children=(Label(value=' 0.02MB of 0.02MB uploaded (0.00MB deduped)\\r'), FloatProgress(value=1.0, max=1.0)…"
      ]
     },
     "metadata": {},
     "output_type": "display_data"
    },
    {
     "data": {
      "text/html": [
       "<style>\n",
       "    table.wandb td:nth-child(1) { padding: 0 10px; text-align: right }\n",
       "    .wandb-row { display: flex; flex-direction: row; flex-wrap: wrap; width: 100% }\n",
       "    .wandb-col { display: flex; flex-direction: column; flex-basis: 100%; flex: 1; padding: 10px; }\n",
       "    </style>\n",
       "<div class=\"wandb-row\"><div class=\"wandb-col\">\n",
       "<h3>Run history:</h3><br/><table class=\"wandb\"><tr><td>accuracy</td><td>▁</td></tr><tr><td>f1_score</td><td>▁</td></tr><tr><td>precision</td><td>▁</td></tr><tr><td>recall</td><td>▁</td></tr></table><br/></div><div class=\"wandb-col\">\n",
       "<h3>Run summary:</h3><br/><table class=\"wandb\"><tr><td>accuracy</td><td>0.92412</td></tr><tr><td>f1_score</td><td>0.7823</td></tr><tr><td>precision</td><td>0.82463</td></tr><tr><td>recall</td><td>0.74411</td></tr></table>\n",
       "</div></div>\n",
       "Synced 5 W&B file(s), 3 media file(s), 3 artifact file(s) and 0 other file(s)\n",
       "<br/>Synced <strong style=\"color:#cdcd00\">polar-eon-29</strong>: <a href=\"https://wandb.ai/apollo101/CreditChurn/runs/ag8sgjop\" target=\"_blank\">https://wandb.ai/apollo101/CreditChurn/runs/ag8sgjop</a><br/>\n",
       "Find logs at: <code>.\\wandb\\run-20211130_171824-ag8sgjop\\logs</code><br/>\n"
      ],
      "text/plain": [
       "<IPython.core.display.HTML object>"
      ]
     },
     "metadata": {},
     "output_type": "display_data"
    }
   ],
   "source": [
    "final_clf = run_model_experiment(final_clf,\n",
    "                             X_train,\n",
    "                             y_train,\n",
    "                             X_test,\n",
    "                             y_test,\n",
    "                             name = \"FinalModelClassifierTopFeatures\",\n",
    "                             config = None,\n",
    "                             tags = \"XG Boost\")"
   ]
  },
  {
   "cell_type": "code",
   "execution_count": 71,
   "metadata": {},
   "outputs": [
    {
     "data": {
      "text/plain": [
       "0.9241209130166563"
      ]
     },
     "execution_count": 71,
     "metadata": {},
     "output_type": "execute_result"
    }
   ],
   "source": [
    "final_clf.score(X_test,y_test)"
   ]
  },
  {
   "cell_type": "markdown",
   "metadata": {},
   "source": [
    "## 2.4 Model Evaluation and Calibration"
   ]
  },
  {
   "cell_type": "code",
   "execution_count": 72,
   "metadata": {},
   "outputs": [],
   "source": [
    "from sklearn.metrics import plot_roc_curve, plot_precision_recall_curve, confusion_matrix\n",
    "from sklearn.metrics import matthews_corrcoef, classification_report\n",
    "import matplotlib.pyplot as plt\n",
    "import seaborn as sns"
   ]
  },
  {
   "cell_type": "markdown",
   "metadata": {},
   "source": [
    "### 2.4.1 Classification Report"
   ]
  },
  {
   "cell_type": "code",
   "execution_count": 73,
   "metadata": {},
   "outputs": [
    {
     "name": "stdout",
     "output_type": "stream",
     "text": [
      "              precision    recall  f1-score   support\n",
      "\n",
      "           0       0.96      0.94      0.95      1353\n",
      "           1       0.74      0.82      0.78       268\n",
      "\n",
      "    accuracy                           0.92      1621\n",
      "   macro avg       0.85      0.88      0.87      1621\n",
      "weighted avg       0.93      0.92      0.93      1621\n",
      "\n"
     ]
    }
   ],
   "source": [
    "final_preds = final_clf.predict(X_test)\n",
    "print(classification_report(y_test, final_preds))"
   ]
  },
  {
   "cell_type": "markdown",
   "metadata": {},
   "source": [
    "### 2.4.2 Confusion Matrix"
   ]
  },
  {
   "cell_type": "code",
   "execution_count": 74,
   "metadata": {},
   "outputs": [
    {
     "data": {
      "text/plain": [
       "Text(0.5, 510.88, 'Predicted label')"
      ]
     },
     "execution_count": 74,
     "metadata": {},
     "output_type": "execute_result"
    },
    {
     "data": {
      "image/png": "[encoded data removed]",
      "text/plain": [
       "<Figure size 864x576 with 2 Axes>"
      ]
     },
     "metadata": {},
     "output_type": "display_data"
    }
   ],
   "source": [
    "cnf_matrix = confusion_matrix(final_preds,y_test)\n",
    "class_names=[0,1] \n",
    "fig, ax = plt.subplots()\n",
    "tick_marks = np.arange(len(class_names))\n",
    "plt.xticks(tick_marks, class_names)\n",
    "plt.yticks(tick_marks, class_names)\n",
    "# create heatmap\n",
    "sns.heatmap(pd.DataFrame(cnf_matrix), annot=True, cmap=\"YlGnBu\" ,fmt='g')\n",
    "ax.xaxis.set_label_position(\"top\")\n",
    "plt.tight_layout()\n",
    "plt.title('Confusion matrix (Final Model (XG Boost))', y=1.1)\n",
    "plt.ylabel('Actual label')\n",
    "plt.xlabel('Predicted label')"
   ]
  },
  {
   "cell_type": "markdown",
   "metadata": {},
   "source": [
    "### 2.4.3 ROC Curve"
   ]
  },
  {
   "cell_type": "code",
   "execution_count": 76,
   "metadata": {},
   "outputs": [
    {
     "data": {
      "text/plain": [
       "Text(0.5, 1.0, 'ROC Curve')"
      ]
     },
     "execution_count": 76,
     "metadata": {},
     "output_type": "execute_result"
    },
    {
     "data": {
      "image/png": "[encoded data removed]",
      "text/plain": [
       "<Figure size 864x576 with 1 Axes>"
      ]
     },
     "metadata": {},
     "output_type": "display_data"
    }
   ],
   "source": [
    "plot_roc_curve(final_clf, X_test, y_test)\n",
    "plt.title(\"ROC Curve\")"
   ]
  },
  {
   "cell_type": "markdown",
   "metadata": {},
   "source": [
    "### 2.4.4 PR Curve"
   ]
  },
  {
   "cell_type": "code",
   "execution_count": 77,
   "metadata": {},
   "outputs": [
    {
     "data": {
      "text/plain": [
       "Text(0.5, 1.0, 'PR Curve')"
      ]
     },
     "execution_count": 77,
     "metadata": {},
     "output_type": "execute_result"
    },
    {
     "data": {
      "image/png": "[encoded data removed]",
      "text/plain": [
       "<Figure size 864x576 with 1 Axes>"
      ]
     },
     "metadata": {},
     "output_type": "display_data"
    }
   ],
   "source": [
    "plot_precision_recall_curve(final_clf, X_test, y_test)\n",
    "plt.title(\"PR Curve\")"
   ]
  },
  {
   "cell_type": "markdown",
   "metadata": {},
   "source": [
    "### 2.4.5 Matthews Corrleation Coefficient"
   ]
  },
  {
   "cell_type": "code",
   "execution_count": 78,
   "metadata": {},
   "outputs": [
    {
     "name": "stdout",
     "output_type": "stream",
     "text": [
      "Matthews Correlation: 0.7379258801615464\n"
     ]
    }
   ],
   "source": [
    "print(\"Matthews Correlation:\",matthews_corrcoef( y_test, final_preds))"
   ]
  },
  {
   "cell_type": "markdown",
   "metadata": {},
   "source": [
    "### 2.4.6 Calibration Curve"
   ]
  },
  {
   "cell_type": "code",
   "execution_count": 79,
   "metadata": {},
   "outputs": [],
   "source": [
    "from sklearn.calibration import calibration_curve\n",
    "\n",
    "\n",
    "def plot_calibration_curve(name, fig_index, probs):\n",
    "    \"\"\"Plot calibration curve for est w/o and with calibration. \"\"\"\n",
    "\n",
    "    fig = plt.figure(fig_index, figsize=(10, 10))\n",
    "    ax1 = plt.subplot2grid((3, 1), (0, 0), rowspan=2)\n",
    "    ax2 = plt.subplot2grid((3, 1), (2, 0))\n",
    "    \n",
    "    ax1.plot([0, 1], [0, 1], \"k:\", label=\"Perfectly calibrated\")\n",
    "    \n",
    "    frac_of_pos, mean_pred_value = calibration_curve(y_test, probs, n_bins=10)\n",
    "\n",
    "    ax1.plot(mean_pred_value, frac_of_pos, \"s-\", label=f'{name}')\n",
    "    ax1.set_ylabel(\"Fraction of positives\")\n",
    "    ax1.set_ylim([-0.05, 1.05])\n",
    "    ax1.legend(loc=\"lower right\")\n",
    "    ax1.set_title(f'Calibration plot ({name})')\n",
    "    \n",
    "    ax2.hist(probs, range=(0, 1), bins=10, label=name, histtype=\"step\", lw=2)\n",
    "    ax2.set_xlabel(\"Mean predicted value\")\n",
    "    ax2.set_ylabel(\"Count\")"
   ]
  },
  {
   "cell_type": "code",
   "execution_count": 80,
   "metadata": {},
   "outputs": [],
   "source": [
    "final_probs = final_clf.predict_proba(X_test)"
   ]
  },
  {
   "cell_type": "code",
   "execution_count": 81,
   "metadata": {},
   "outputs": [
    {
     "data": {
      "image/png": "[encoded data removed]",
      "text/plain": [
       "<Figure size 720x720 with 2 Axes>"
      ]
     },
     "metadata": {},
     "output_type": "display_data"
    }
   ],
   "source": [
    "plot_calibration_curve(\"Final Model (XG Boost)\", 1, final_probs[:,1])"
   ]
  },
  {
   "cell_type": "code",
   "execution_count": 82,
   "metadata": {},
   "outputs": [],
   "source": [
    "from sklearn.calibration import CalibratedClassifierCV"
   ]
  },
  {
   "cell_type": "code",
   "execution_count": 83,
   "metadata": {},
   "outputs": [
    {
     "data": {
      "text/html": [
       "\n",
       "                    Syncing run <strong><a href=\"https://wandb.ai/apollo101/CreditChurn/runs/1cri50gn\" target=\"_blank\">vital-plant-30</a></strong> to <a href=\"https://wandb.ai/apollo101/CreditChurn\" target=\"_blank\">Weights & Biases</a> (<a href=\"https://docs.wandb.com/integrations/jupyter.html\" target=\"_blank\">docs</a>).<br/>\n",
       "\n",
       "                "
      ],
      "text/plain": [
       "<IPython.core.display.HTML object>"
      ]
     },
     "metadata": {},
     "output_type": "display_data"
    },
    {
     "name": "stderr",
     "output_type": "stream",
     "text": [
      "wandb: WARNING Calling run.save without any arguments is deprecated.Changes to attributes are automatically persisted.\n"
     ]
    },
    {
     "data": {
      "text/html": [
       "<br/>Waiting for W&B process to finish, PID 10292... <strong style=\"color:green\">(success).</strong>"
      ],
      "text/plain": [
       "<IPython.core.display.HTML object>"
      ]
     },
     "metadata": {},
     "output_type": "display_data"
    },
    {
     "data": {
      "application/vnd.jupyter.widget-view+json": {
       "model_id": "",
       "version_major": 2,
       "version_minor": 0
      },
      "text/plain": [
       "VBox(children=(Label(value=' 0.01MB of 0.01MB uploaded (0.00MB deduped)\\r'), FloatProgress(value=1.0, max=1.0)…"
      ]
     },
     "metadata": {},
     "output_type": "display_data"
    },
    {
     "data": {
      "text/html": [
       "<style>\n",
       "    table.wandb td:nth-child(1) { padding: 0 10px; text-align: right }\n",
       "    .wandb-row { display: flex; flex-direction: row; flex-wrap: wrap; width: 100% }\n",
       "    .wandb-col { display: flex; flex-direction: column; flex-basis: 100%; flex: 1; padding: 10px; }\n",
       "    </style>\n",
       "<div class=\"wandb-row\"><div class=\"wandb-col\">\n",
       "<h3>Run history:</h3><br/><table class=\"wandb\"><tr><td>accuracy</td><td>▁</td></tr><tr><td>f1_score</td><td>▁</td></tr><tr><td>precision</td><td>▁</td></tr><tr><td>recall</td><td>▁</td></tr></table><br/></div><div class=\"wandb-col\">\n",
       "<h3>Run summary:</h3><br/><table class=\"wandb\"><tr><td>accuracy</td><td>0.9235</td></tr><tr><td>f1_score</td><td>0.78322</td></tr><tr><td>precision</td><td>0.83582</td></tr><tr><td>recall</td><td>0.73684</td></tr></table>\n",
       "</div></div>\n",
       "Synced 5 W&B file(s), 3 media file(s), 3 artifact file(s) and 0 other file(s)\n",
       "<br/>Synced <strong style=\"color:#cdcd00\">vital-plant-30</strong>: <a href=\"https://wandb.ai/apollo101/CreditChurn/runs/1cri50gn\" target=\"_blank\">https://wandb.ai/apollo101/CreditChurn/runs/1cri50gn</a><br/>\n",
       "Find logs at: <code>.\\wandb\\run-20211130_172456-1cri50gn\\logs</code><br/>\n"
      ],
      "text/plain": [
       "<IPython.core.display.HTML object>"
      ]
     },
     "metadata": {},
     "output_type": "display_data"
    }
   ],
   "source": [
    "final_calibrated = CalibratedClassifierCV(final_clf, cv=2, method='sigmoid')\n",
    "\n",
    "final_calibrated = run_model_experiment(final_calibrated,\n",
    "                             X_train,\n",
    "                             y_train,\n",
    "                             X_test,\n",
    "                             y_test,\n",
    "                             name = \"FinalModelCalibratedTopFeatures\",\n",
    "                             config = None,\n",
    "                             tags = \"XG Boost\")"
   ]
  },
  {
   "cell_type": "code",
   "execution_count": 84,
   "metadata": {},
   "outputs": [
    {
     "data": {
      "image/png": "[encoded data removed]",
      "text/plain": [
       "<Figure size 720x720 with 2 Axes>"
      ]
     },
     "metadata": {},
     "output_type": "display_data"
    }
   ],
   "source": [
    "final_calibrated_probs = final_calibrated.predict_proba(X_test)[:,1]\n",
    "\n",
    "plot_calibration_curve(\"Final Model (XG Boost) Calibrated with Platt Scaling\", 3, final_calibrated_probs)"
   ]
  },
  {
   "cell_type": "code",
   "execution_count": 85,
   "metadata": {},
   "outputs": [
    {
     "data": {
      "text/plain": [
       "0.9241209130166563"
      ]
     },
     "execution_count": 85,
     "metadata": {},
     "output_type": "execute_result"
    }
   ],
   "source": [
    "final_acc = final_clf.score(X_test,y_test)\n",
    "final_acc"
   ]
  },
  {
   "cell_type": "markdown",
   "metadata": {},
   "source": [
    "## 2.5 Saving the model"
   ]
  },
  {
   "cell_type": "code",
   "execution_count": 86,
   "metadata": {},
   "outputs": [],
   "source": [
    "class CreditChurnClassification():\n",
    "    \n",
    "    def __init__(self, model, features, acc):\n",
    "        self.model = model\n",
    "        self.features = features\n",
    "        self.acc = acc"
   ]
  },
  {
   "cell_type": "code",
   "execution_count": 87,
   "metadata": {},
   "outputs": [],
   "source": [
    "my_model = CreditChurnClassification(final_clf, list(X_train.columns), final_acc)"
   ]
  },
  {
   "cell_type": "code",
   "execution_count": 88,
   "metadata": {},
   "outputs": [],
   "source": [
    "from joblib import dump"
   ]
  },
  {
   "cell_type": "code",
   "execution_count": 89,
   "metadata": {},
   "outputs": [
    {
     "data": {
      "text/plain": [
       "['../Models/Churn_xgb_top.pkl']"
      ]
     },
     "execution_count": 89,
     "metadata": {},
     "output_type": "execute_result"
    }
   ],
   "source": [
    "dump(my_model, '../Models/Churn_xgb_top.pkl')"
   ]
  },
  {
   "cell_type": "code",
   "execution_count": null,
   "metadata": {},
   "outputs": [],
   "source": []
  }
 ],
 "metadata": {
  "kernelspec": {
   "display_name": "Python 3",
   "language": "python",
   "name": "python3"
  },
  "language_info": {
   "codemirror_mode": {
    "name": "ipython",
    "version": 3
   },
   "file_extension": ".py",
   "mimetype": "text/x-python",
   "name": "python",
   "nbconvert_exporter": "python",
   "pygments_lexer": "ipython3",
   "version": "3.7.6"
  }
 },
 "nbformat": 4,
 "nbformat_minor": 4
}
