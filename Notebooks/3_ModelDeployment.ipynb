{
 "cells": [
  {
   "cell_type": "markdown",
   "metadata": {},
   "source": [
    "# 3. Model Deployment"
   ]
  },
  {
   "cell_type": "code",
   "execution_count": 1,
   "metadata": {},
   "outputs": [],
   "source": [
    "import pandas as pd\n",
    "from joblib import load\n",
    "import warnings \n",
    "warnings.filterwarnings(\"ignore\")\n",
    "import streamlit as st"
   ]
  },
  {
   "cell_type": "markdown",
   "metadata": {},
   "source": [
    "## 3.1 Create Model Class"
   ]
  },
  {
   "cell_type": "code",
   "execution_count": 2,
   "metadata": {},
   "outputs": [],
   "source": [
    "class CreditChurnClassification():\n",
    "    \n",
    "    def __init__(self, model, features, acc):\n",
    "        self.model = model\n",
    "        self.features = features\n",
    "        self.acc = acc"
   ]
  },
  {
   "cell_type": "markdown",
   "metadata": {},
   "source": [
    "## 3.2 Load Model "
   ]
  },
  {
   "cell_type": "code",
   "execution_count": 11,
   "metadata": {},
   "outputs": [
    {
     "data": {
      "text/plain": [
       "<__main__.CreditChurnClassification at 0x17ff57e4988>"
      ]
     },
     "execution_count": 11,
     "metadata": {},
     "output_type": "execute_result"
    }
   ],
   "source": [
    "prediction_model = load('../Models/Churn_xgb_top.pkl')\n",
    "prediction_model"
   ]
  },
  {
   "cell_type": "code",
   "execution_count": 12,
   "metadata": {},
   "outputs": [
    {
     "data": {
      "text/plain": [
       "Pipeline(steps=[('pre',\n",
       "                 ColumnTransformer(remainder='passthrough',\n",
       "                                   transformers=[('ohe', OneHotEncoder(),\n",
       "                                                  ['Gender']),\n",
       "                                                 ('bin',\n",
       "                                                  KBinsDiscretizer(encode='ordinal',\n",
       "                                                                   strategy='uniform'),\n",
       "                                                  ['Total_Revolving_Bal',\n",
       "                                                   'Total_Trans_Amt']),\n",
       "                                                 ('scaler', StandardScaler(),\n",
       "                                                  ['Total_Trans_Ct',\n",
       "                                                   'Total_Relationship_Count',\n",
       "                                                   'Customer_Age',\n",
       "                                                   'Total_Ct_Chng_Q4_Q1',\n",
       "                                                   'Months_Inactive_12_mon...\n",
       "                               importance_type=None, interaction_constraints='',\n",
       "                               learning_rate=0.300000012, max_delta_step=0,\n",
       "                               max_depth=4, min_child_weight=1, missing=nan,\n",
       "                               monotone_constraints='()', n_estimators=100,\n",
       "                               n_jobs=8, num_parallel_tree=1, predictor='auto',\n",
       "                               random_state=0, reg_alpha=0, reg_lambda=1,\n",
       "                               scale_pos_weight=1, subsample=0.8,\n",
       "                               tree_method='exact', use_label_encoder=False,\n",
       "                               validate_parameters=1, verbosity=None))])"
      ]
     },
     "execution_count": 12,
     "metadata": {},
     "output_type": "execute_result"
    }
   ],
   "source": [
    "prediction_model.model"
   ]
  },
  {
   "cell_type": "markdown",
   "metadata": {},
   "source": [
    "## 3.3 Web UI"
   ]
  },
  {
   "cell_type": "code",
   "execution_count": 5,
   "metadata": {},
   "outputs": [
    {
     "name": "stderr",
     "output_type": "stream",
     "text": [
      "2021-11-25 02:41:04.588 \n",
      "  \u001b[33m\u001b[1mWarning:\u001b[0m to view this Streamlit app on a browser, run it with the following\n",
      "  command:\n",
      "\n",
      "    streamlit run C:\\Users\\robin\\anaconda3\\lib\\site-packages\\ipykernel_launcher.py [ARGUMENTS]\n"
     ]
    }
   ],
   "source": [
    "with st.form(\"info\"):\n",
    "    age = st.slider('Age')\n",
    "    gender = st.selectbox('Gender', options=(\"M\",\"F\"))\n",
    "    total_rel_cnt = st.number_input(\"Total Relationship Count\")\n",
    "    mth_inactive = st.number_input(\"Months Inactive\")\n",
    "    tot_rev_bal = st.number_input(\"Total Revolving Balance\")\n",
    "    amt_chng_Q4_1 = st.number_input(\"Total Amnout Change Q4-Q1\")\n",
    "    trans_amt = st.number_input(\"Total Transaction Amount\")\n",
    "    trans_cnt = st.number_input(\"Total Transaction Count\")\n",
    "    cnt_chng_Q4_1 = st.number_input(\"Total Transaction Count Change Q4-Q1\")\n",
    "    avg_util = st.number_input(\"Average Utilisation Ratio\")\n",
    "    \n",
    "    submit = st.form_submit_button(\"Submit\")"
   ]
  },
  {
   "cell_type": "code",
   "execution_count": 6,
   "metadata": {},
   "outputs": [],
   "source": [
    "if submit:\n",
    "    data = {'Customer_Age':age,\n",
    "            'Gender': gender,\n",
    "           'Total_Relationship_Count':total_rel_cnt,\n",
    "           'Months_Inactive_12_mon':mth_inactive,\n",
    "           'Total_Revolving_Bal':tot_rev_bal,\n",
    "           'Total_Amt_Chng_Q4_Q1':amt_chng_Q4_1,\n",
    "           'Total_Trans_Amt':trans_amt,\n",
    "           'Total_Trans_Ct':trans_cnt,\n",
    "           'Total_Ct_Chng_Q4_Q1':cnt_chng_Q4_1,\n",
    "           'Avg_Utilization_Ratio':avg_util}\n",
    "    \n",
    "    X = pd.DataFrame(data, index = [0])\n",
    "    attrition = prediction_model.model.predict(X)\n",
    "    \n",
    "    if attrition[0] == 0:\n",
    "        st.markdown(\"The customer is not likely to attrite !\")\n",
    "    else:\n",
    "        st.markdown(\"This customer may attrite. Do something !\")"
   ]
  }
 ],
 "metadata": {
  "kernelspec": {
   "display_name": "Python 3",
   "language": "python",
   "name": "python3"
  },
  "language_info": {
   "codemirror_mode": {
    "name": "ipython",
    "version": 3
   },
   "file_extension": ".py",
   "mimetype": "text/x-python",
   "name": "python",
   "nbconvert_exporter": "python",
   "pygments_lexer": "ipython3",
   "version": "3.7.6"
  }
 },
 "nbformat": 4,
 "nbformat_minor": 4
}
